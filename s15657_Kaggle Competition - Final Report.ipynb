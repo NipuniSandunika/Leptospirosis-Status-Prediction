{
 "cells": [
  {
   "cell_type": "markdown",
   "id": "670f8c1f-3351-4a19-8fba-d4c5e4208a6b",
   "metadata": {},
   "source": [
    "# Kaggle Competition - Final Report"
   ]
  },
  {
   "cell_type": "markdown",
   "id": "a9fd7ac9-4cff-4de4-8693-3f69a88e61d4",
   "metadata": {},
   "source": [
    "## W.M.N.Sandunika - s15657"
   ]
  },
  {
   "cell_type": "code",
   "execution_count": 1,
   "id": "0d810001-2da3-4ff8-81e1-d74f8caf9864",
   "metadata": {},
   "outputs": [],
   "source": [
    "import numpy as np\n",
    "import pandas as pd\n",
    "import seaborn as sns\n",
    "import matplotlib.pyplot as plt"
   ]
  },
  {
   "cell_type": "code",
   "execution_count": 2,
   "id": "d5fc8c57-4a7e-4646-993e-af2bcb9c57a5",
   "metadata": {},
   "outputs": [
    {
     "name": "stderr",
     "output_type": "stream",
     "text": [
      "C:\\Users\\nipun\\AppData\\Local\\Temp\\ipykernel_12000\\1959244907.py:1: DtypeWarning: Columns (494,597,599,600,601,603,604) have mixed types. Specify dtype option on import or set low_memory=False.\n",
      "  df = pd.read_csv(\"E:\\\\4th Year\\\\1st Semester\\\\ST 4035 - Data Science\\\\Assignments\\\\Assignment 01\\\\train.csv\")\n"
     ]
    }
   ],
   "source": [
    "df = pd.read_csv(\"E:\\\\4th Year\\\\1st Semester\\\\ST 4035 - Data Science\\\\Assignments\\\\Assignment 01\\\\train.csv\")"
   ]
  },
  {
   "cell_type": "code",
   "execution_count": 3,
   "id": "93804cba-7f5e-40ac-aa14-dfb695c251f2",
   "metadata": {},
   "outputs": [
    {
     "data": {
      "text/html": [
       "<div>\n",
       "<style scoped>\n",
       "    .dataframe tbody tr th:only-of-type {\n",
       "        vertical-align: middle;\n",
       "    }\n",
       "\n",
       "    .dataframe tbody tr th {\n",
       "        vertical-align: top;\n",
       "    }\n",
       "\n",
       "    .dataframe thead th {\n",
       "        text-align: right;\n",
       "    }\n",
       "</style>\n",
       "<table border=\"1\" class=\"dataframe\">\n",
       "  <thead>\n",
       "    <tr style=\"text-align: right;\">\n",
       "      <th></th>\n",
       "      <th>ID</th>\n",
       "      <th>Year</th>\n",
       "      <th>Month</th>\n",
       "      <th>Hospital</th>\n",
       "      <th>Sample</th>\n",
       "      <th>ICU</th>\n",
       "      <th>OPD</th>\n",
       "      <th>Sex</th>\n",
       "      <th>Age</th>\n",
       "      <th>Ethnicity</th>\n",
       "      <th>...</th>\n",
       "      <th>FU_L.interrogansserovarMankarsostr.Mankarso</th>\n",
       "      <th>FU_L.santarosaiserovarGeorgiastr.LT117</th>\n",
       "      <th>FU_L.santarosaiserovarPyrogenesstr.Salinem</th>\n",
       "      <th>FU_L.interrogansserovarBataviaestr.VanTienan</th>\n",
       "      <th>FU_L.interrogansserovarAlexistr.616</th>\n",
       "      <th>FU_L.interrogansserovarAustralisstr.Ballico</th>\n",
       "      <th>FU_L.interrogansserovarwolfiistr.3705</th>\n",
       "      <th>FU_L.interrogansserovarWeerasinghe</th>\n",
       "      <th>FU_Patoc</th>\n",
       "      <th>Final</th>\n",
       "    </tr>\n",
       "  </thead>\n",
       "  <tbody>\n",
       "    <tr>\n",
       "      <th>0</th>\n",
       "      <td>1</td>\n",
       "      <td>2018</td>\n",
       "      <td>11</td>\n",
       "      <td>7</td>\n",
       "      <td>1</td>\n",
       "      <td>2</td>\n",
       "      <td>2</td>\n",
       "      <td>2</td>\n",
       "      <td>53</td>\n",
       "      <td>1</td>\n",
       "      <td>...</td>\n",
       "      <td>NaN</td>\n",
       "      <td>NaN</td>\n",
       "      <td>NaN</td>\n",
       "      <td>NaN</td>\n",
       "      <td>NaN</td>\n",
       "      <td>NaN</td>\n",
       "      <td>NaN</td>\n",
       "      <td>NaN</td>\n",
       "      <td>NaN</td>\n",
       "      <td>2</td>\n",
       "    </tr>\n",
       "    <tr>\n",
       "      <th>1</th>\n",
       "      <td>2</td>\n",
       "      <td>2018</td>\n",
       "      <td>1</td>\n",
       "      <td>7</td>\n",
       "      <td>1</td>\n",
       "      <td>2</td>\n",
       "      <td>2</td>\n",
       "      <td>1</td>\n",
       "      <td>17</td>\n",
       "      <td>1</td>\n",
       "      <td>...</td>\n",
       "      <td>NaN</td>\n",
       "      <td>NaN</td>\n",
       "      <td>NaN</td>\n",
       "      <td>NaN</td>\n",
       "      <td>NaN</td>\n",
       "      <td>NaN</td>\n",
       "      <td>NaN</td>\n",
       "      <td>NaN</td>\n",
       "      <td>NaN</td>\n",
       "      <td>1</td>\n",
       "    </tr>\n",
       "    <tr>\n",
       "      <th>2</th>\n",
       "      <td>3</td>\n",
       "      <td>2018</td>\n",
       "      <td>5</td>\n",
       "      <td>7</td>\n",
       "      <td>1</td>\n",
       "      <td>2</td>\n",
       "      <td>2</td>\n",
       "      <td>1</td>\n",
       "      <td>47</td>\n",
       "      <td>1</td>\n",
       "      <td>...</td>\n",
       "      <td>NaN</td>\n",
       "      <td>NaN</td>\n",
       "      <td>NaN</td>\n",
       "      <td>NaN</td>\n",
       "      <td>NaN</td>\n",
       "      <td>NaN</td>\n",
       "      <td>NaN</td>\n",
       "      <td>NaN</td>\n",
       "      <td>NaN</td>\n",
       "      <td>2</td>\n",
       "    </tr>\n",
       "    <tr>\n",
       "      <th>3</th>\n",
       "      <td>4</td>\n",
       "      <td>2018</td>\n",
       "      <td>1</td>\n",
       "      <td>7</td>\n",
       "      <td>1</td>\n",
       "      <td>2</td>\n",
       "      <td>2</td>\n",
       "      <td>1</td>\n",
       "      <td>21</td>\n",
       "      <td>1</td>\n",
       "      <td>...</td>\n",
       "      <td>NaN</td>\n",
       "      <td>NaN</td>\n",
       "      <td>NaN</td>\n",
       "      <td>NaN</td>\n",
       "      <td>NaN</td>\n",
       "      <td>NaN</td>\n",
       "      <td>NaN</td>\n",
       "      <td>NaN</td>\n",
       "      <td>NaN</td>\n",
       "      <td>2</td>\n",
       "    </tr>\n",
       "  </tbody>\n",
       "</table>\n",
       "<p>4 rows × 806 columns</p>\n",
       "</div>"
      ],
      "text/plain": [
       "   ID  Year  Month  Hospital  Sample  ICU  OPD  Sex  Age  Ethnicity  ...  \\\n",
       "0   1  2018     11         7       1    2    2    2   53          1  ...   \n",
       "1   2  2018      1         7       1    2    2    1   17          1  ...   \n",
       "2   3  2018      5         7       1    2    2    1   47          1  ...   \n",
       "3   4  2018      1         7       1    2    2    1   21          1  ...   \n",
       "\n",
       "   FU_L.interrogansserovarMankarsostr.Mankarso  \\\n",
       "0                                          NaN   \n",
       "1                                          NaN   \n",
       "2                                          NaN   \n",
       "3                                          NaN   \n",
       "\n",
       "   FU_L.santarosaiserovarGeorgiastr.LT117  \\\n",
       "0                                     NaN   \n",
       "1                                     NaN   \n",
       "2                                     NaN   \n",
       "3                                     NaN   \n",
       "\n",
       "   FU_L.santarosaiserovarPyrogenesstr.Salinem  \\\n",
       "0                                         NaN   \n",
       "1                                         NaN   \n",
       "2                                         NaN   \n",
       "3                                         NaN   \n",
       "\n",
       "   FU_L.interrogansserovarBataviaestr.VanTienan  \\\n",
       "0                                           NaN   \n",
       "1                                           NaN   \n",
       "2                                           NaN   \n",
       "3                                           NaN   \n",
       "\n",
       "   FU_L.interrogansserovarAlexistr.616  \\\n",
       "0                                  NaN   \n",
       "1                                  NaN   \n",
       "2                                  NaN   \n",
       "3                                  NaN   \n",
       "\n",
       "   FU_L.interrogansserovarAustralisstr.Ballico  \\\n",
       "0                                          NaN   \n",
       "1                                          NaN   \n",
       "2                                          NaN   \n",
       "3                                          NaN   \n",
       "\n",
       "   FU_L.interrogansserovarwolfiistr.3705  FU_L.interrogansserovarWeerasinghe  \\\n",
       "0                                    NaN                                 NaN   \n",
       "1                                    NaN                                 NaN   \n",
       "2                                    NaN                                 NaN   \n",
       "3                                    NaN                                 NaN   \n",
       "\n",
       "   FU_Patoc  Final  \n",
       "0       NaN      2  \n",
       "1       NaN      1  \n",
       "2       NaN      2  \n",
       "3       NaN      2  \n",
       "\n",
       "[4 rows x 806 columns]"
      ]
     },
     "execution_count": 3,
     "metadata": {},
     "output_type": "execute_result"
    }
   ],
   "source": [
    "df.head(4)"
   ]
  },
  {
   "cell_type": "code",
   "execution_count": 4,
   "id": "a5c83368-11c1-4c07-90a9-e2ca9109cfa9",
   "metadata": {},
   "outputs": [
    {
     "data": {
      "text/html": [
       "<div>\n",
       "<style scoped>\n",
       "    .dataframe tbody tr th:only-of-type {\n",
       "        vertical-align: middle;\n",
       "    }\n",
       "\n",
       "    .dataframe tbody tr th {\n",
       "        vertical-align: top;\n",
       "    }\n",
       "\n",
       "    .dataframe thead th {\n",
       "        text-align: right;\n",
       "    }\n",
       "</style>\n",
       "<table border=\"1\" class=\"dataframe\">\n",
       "  <thead>\n",
       "    <tr style=\"text-align: right;\">\n",
       "      <th></th>\n",
       "      <th>ID</th>\n",
       "      <th>Year</th>\n",
       "      <th>Month</th>\n",
       "      <th>Hospital</th>\n",
       "      <th>Sample</th>\n",
       "      <th>ICU</th>\n",
       "      <th>OPD</th>\n",
       "      <th>Sex</th>\n",
       "      <th>Age</th>\n",
       "      <th>Ethnicity</th>\n",
       "      <th>...</th>\n",
       "      <th>FU_L.interrogansserovarMankarsostr.Mankarso</th>\n",
       "      <th>FU_L.santarosaiserovarGeorgiastr.LT117</th>\n",
       "      <th>FU_L.santarosaiserovarPyrogenesstr.Salinem</th>\n",
       "      <th>FU_L.interrogansserovarBataviaestr.VanTienan</th>\n",
       "      <th>FU_L.interrogansserovarAlexistr.616</th>\n",
       "      <th>FU_L.interrogansserovarAustralisstr.Ballico</th>\n",
       "      <th>FU_L.interrogansserovarwolfiistr.3705</th>\n",
       "      <th>FU_L.interrogansserovarWeerasinghe</th>\n",
       "      <th>FU_Patoc</th>\n",
       "      <th>Final</th>\n",
       "    </tr>\n",
       "  </thead>\n",
       "  <tbody>\n",
       "    <tr>\n",
       "      <th>1382</th>\n",
       "      <td>1383</td>\n",
       "      <td>2019</td>\n",
       "      <td>8</td>\n",
       "      <td>4</td>\n",
       "      <td>2</td>\n",
       "      <td>2</td>\n",
       "      <td>2</td>\n",
       "      <td>1</td>\n",
       "      <td>62</td>\n",
       "      <td>1</td>\n",
       "      <td>...</td>\n",
       "      <td>NaN</td>\n",
       "      <td>NaN</td>\n",
       "      <td>NaN</td>\n",
       "      <td>NaN</td>\n",
       "      <td>NaN</td>\n",
       "      <td>NaN</td>\n",
       "      <td>NaN</td>\n",
       "      <td>NaN</td>\n",
       "      <td>NaN</td>\n",
       "      <td>2</td>\n",
       "    </tr>\n",
       "    <tr>\n",
       "      <th>1383</th>\n",
       "      <td>1384</td>\n",
       "      <td>2018</td>\n",
       "      <td>11</td>\n",
       "      <td>7</td>\n",
       "      <td>1</td>\n",
       "      <td>2</td>\n",
       "      <td>2</td>\n",
       "      <td>2</td>\n",
       "      <td>59</td>\n",
       "      <td>2</td>\n",
       "      <td>...</td>\n",
       "      <td>NaN</td>\n",
       "      <td>NaN</td>\n",
       "      <td>NaN</td>\n",
       "      <td>NaN</td>\n",
       "      <td>NaN</td>\n",
       "      <td>NaN</td>\n",
       "      <td>NaN</td>\n",
       "      <td>NaN</td>\n",
       "      <td>NaN</td>\n",
       "      <td>2</td>\n",
       "    </tr>\n",
       "    <tr>\n",
       "      <th>1384</th>\n",
       "      <td>1385</td>\n",
       "      <td>2017</td>\n",
       "      <td>9</td>\n",
       "      <td>5</td>\n",
       "      <td>1</td>\n",
       "      <td>2</td>\n",
       "      <td>1</td>\n",
       "      <td>1</td>\n",
       "      <td>56</td>\n",
       "      <td>1</td>\n",
       "      <td>...</td>\n",
       "      <td>NaN</td>\n",
       "      <td>NaN</td>\n",
       "      <td>NaN</td>\n",
       "      <td>NaN</td>\n",
       "      <td>NaN</td>\n",
       "      <td>NaN</td>\n",
       "      <td>NaN</td>\n",
       "      <td>NaN</td>\n",
       "      <td>NaN</td>\n",
       "      <td>2</td>\n",
       "    </tr>\n",
       "    <tr>\n",
       "      <th>1385</th>\n",
       "      <td>1386</td>\n",
       "      <td>2019</td>\n",
       "      <td>4</td>\n",
       "      <td>4</td>\n",
       "      <td>2</td>\n",
       "      <td>2</td>\n",
       "      <td>2</td>\n",
       "      <td>1</td>\n",
       "      <td>61</td>\n",
       "      <td>1</td>\n",
       "      <td>...</td>\n",
       "      <td>NaN</td>\n",
       "      <td>NaN</td>\n",
       "      <td>NaN</td>\n",
       "      <td>NaN</td>\n",
       "      <td>NaN</td>\n",
       "      <td>NaN</td>\n",
       "      <td>NaN</td>\n",
       "      <td>NaN</td>\n",
       "      <td>NaN</td>\n",
       "      <td>2</td>\n",
       "    </tr>\n",
       "    <tr>\n",
       "      <th>1386</th>\n",
       "      <td>1387</td>\n",
       "      <td>2017</td>\n",
       "      <td>8</td>\n",
       "      <td>8</td>\n",
       "      <td>1</td>\n",
       "      <td>2</td>\n",
       "      <td>2</td>\n",
       "      <td>1</td>\n",
       "      <td>36</td>\n",
       "      <td>1</td>\n",
       "      <td>...</td>\n",
       "      <td>NaN</td>\n",
       "      <td>NaN</td>\n",
       "      <td>NaN</td>\n",
       "      <td>NaN</td>\n",
       "      <td>NaN</td>\n",
       "      <td>NaN</td>\n",
       "      <td>NaN</td>\n",
       "      <td>NaN</td>\n",
       "      <td>NaN</td>\n",
       "      <td>1</td>\n",
       "    </tr>\n",
       "  </tbody>\n",
       "</table>\n",
       "<p>5 rows × 806 columns</p>\n",
       "</div>"
      ],
      "text/plain": [
       "        ID  Year  Month  Hospital  Sample  ICU  OPD  Sex  Age  Ethnicity  ...  \\\n",
       "1382  1383  2019      8         4       2    2    2    1   62          1  ...   \n",
       "1383  1384  2018     11         7       1    2    2    2   59          2  ...   \n",
       "1384  1385  2017      9         5       1    2    1    1   56          1  ...   \n",
       "1385  1386  2019      4         4       2    2    2    1   61          1  ...   \n",
       "1386  1387  2017      8         8       1    2    2    1   36          1  ...   \n",
       "\n",
       "      FU_L.interrogansserovarMankarsostr.Mankarso  \\\n",
       "1382                                          NaN   \n",
       "1383                                          NaN   \n",
       "1384                                          NaN   \n",
       "1385                                          NaN   \n",
       "1386                                          NaN   \n",
       "\n",
       "      FU_L.santarosaiserovarGeorgiastr.LT117  \\\n",
       "1382                                     NaN   \n",
       "1383                                     NaN   \n",
       "1384                                     NaN   \n",
       "1385                                     NaN   \n",
       "1386                                     NaN   \n",
       "\n",
       "      FU_L.santarosaiserovarPyrogenesstr.Salinem  \\\n",
       "1382                                         NaN   \n",
       "1383                                         NaN   \n",
       "1384                                         NaN   \n",
       "1385                                         NaN   \n",
       "1386                                         NaN   \n",
       "\n",
       "      FU_L.interrogansserovarBataviaestr.VanTienan  \\\n",
       "1382                                           NaN   \n",
       "1383                                           NaN   \n",
       "1384                                           NaN   \n",
       "1385                                           NaN   \n",
       "1386                                           NaN   \n",
       "\n",
       "      FU_L.interrogansserovarAlexistr.616  \\\n",
       "1382                                  NaN   \n",
       "1383                                  NaN   \n",
       "1384                                  NaN   \n",
       "1385                                  NaN   \n",
       "1386                                  NaN   \n",
       "\n",
       "      FU_L.interrogansserovarAustralisstr.Ballico  \\\n",
       "1382                                          NaN   \n",
       "1383                                          NaN   \n",
       "1384                                          NaN   \n",
       "1385                                          NaN   \n",
       "1386                                          NaN   \n",
       "\n",
       "      FU_L.interrogansserovarwolfiistr.3705  \\\n",
       "1382                                    NaN   \n",
       "1383                                    NaN   \n",
       "1384                                    NaN   \n",
       "1385                                    NaN   \n",
       "1386                                    NaN   \n",
       "\n",
       "      FU_L.interrogansserovarWeerasinghe  FU_Patoc  Final  \n",
       "1382                                 NaN       NaN      2  \n",
       "1383                                 NaN       NaN      2  \n",
       "1384                                 NaN       NaN      2  \n",
       "1385                                 NaN       NaN      2  \n",
       "1386                                 NaN       NaN      1  \n",
       "\n",
       "[5 rows x 806 columns]"
      ]
     },
     "execution_count": 4,
     "metadata": {},
     "output_type": "execute_result"
    }
   ],
   "source": [
    "df.tail()"
   ]
  },
  {
   "cell_type": "code",
   "execution_count": 5,
   "id": "136cb6f1-891e-4e67-b0ca-0618fcdb0a62",
   "metadata": {},
   "outputs": [
    {
     "data": {
      "text/plain": [
       "(1387, 806)"
      ]
     },
     "execution_count": 5,
     "metadata": {},
     "output_type": "execute_result"
    }
   ],
   "source": [
    "df.shape"
   ]
  },
  {
   "cell_type": "code",
   "execution_count": 6,
   "id": "eb9c58c0-67fe-4212-b3ac-c584dff70a16",
   "metadata": {},
   "outputs": [
    {
     "name": "stdout",
     "output_type": "stream",
     "text": [
      "<class 'pandas.core.frame.DataFrame'>\n",
      "RangeIndex: 1387 entries, 0 to 1386\n",
      "Columns: 806 entries, ID to Final\n",
      "dtypes: float64(230), int64(565), object(11)\n",
      "memory usage: 8.5+ MB\n"
     ]
    }
   ],
   "source": [
    "df.info()"
   ]
  },
  {
   "cell_type": "code",
   "execution_count": 7,
   "id": "3d2cefd4-c372-4298-b998-cba710a4bc2a",
   "metadata": {},
   "outputs": [
    {
     "data": {
      "text/plain": [
       "ID                                               int64\n",
       "Year                                             int64\n",
       "Month                                            int64\n",
       "Hospital                                         int64\n",
       "Sample                                           int64\n",
       "                                                ...   \n",
       "FU_L.interrogansserovarAustralisstr.Ballico    float64\n",
       "FU_L.interrogansserovarwolfiistr.3705          float64\n",
       "FU_L.interrogansserovarWeerasinghe             float64\n",
       "FU_Patoc                                       float64\n",
       "Final                                            int64\n",
       "Length: 806, dtype: object"
      ]
     },
     "execution_count": 7,
     "metadata": {},
     "output_type": "execute_result"
    }
   ],
   "source": [
    "df.dtypes"
   ]
  },
  {
   "cell_type": "code",
   "execution_count": 8,
   "id": "92559fca-eb8c-4b84-b83e-631eeb7ab7a4",
   "metadata": {},
   "outputs": [
    {
     "data": {
      "text/html": [
       "<div>\n",
       "<style scoped>\n",
       "    .dataframe tbody tr th:only-of-type {\n",
       "        vertical-align: middle;\n",
       "    }\n",
       "\n",
       "    .dataframe tbody tr th {\n",
       "        vertical-align: top;\n",
       "    }\n",
       "\n",
       "    .dataframe thead th {\n",
       "        text-align: right;\n",
       "    }\n",
       "</style>\n",
       "<table border=\"1\" class=\"dataframe\">\n",
       "  <thead>\n",
       "    <tr style=\"text-align: right;\">\n",
       "      <th></th>\n",
       "      <th>ID</th>\n",
       "      <th>Year</th>\n",
       "      <th>Month</th>\n",
       "      <th>Hospital</th>\n",
       "      <th>Sample</th>\n",
       "      <th>ICU</th>\n",
       "      <th>OPD</th>\n",
       "      <th>Sex</th>\n",
       "      <th>Age</th>\n",
       "      <th>Ethnicity</th>\n",
       "      <th>...</th>\n",
       "      <th>FU_L.interrogansserovarMankarsostr.Mankarso</th>\n",
       "      <th>FU_L.santarosaiserovarGeorgiastr.LT117</th>\n",
       "      <th>FU_L.santarosaiserovarPyrogenesstr.Salinem</th>\n",
       "      <th>FU_L.interrogansserovarBataviaestr.VanTienan</th>\n",
       "      <th>FU_L.interrogansserovarAlexistr.616</th>\n",
       "      <th>FU_L.interrogansserovarAustralisstr.Ballico</th>\n",
       "      <th>FU_L.interrogansserovarwolfiistr.3705</th>\n",
       "      <th>FU_L.interrogansserovarWeerasinghe</th>\n",
       "      <th>FU_Patoc</th>\n",
       "      <th>Final</th>\n",
       "    </tr>\n",
       "  </thead>\n",
       "  <tbody>\n",
       "    <tr>\n",
       "      <th>count</th>\n",
       "      <td>1387.000000</td>\n",
       "      <td>1387.000000</td>\n",
       "      <td>1387.000000</td>\n",
       "      <td>1387.000000</td>\n",
       "      <td>1387.000000</td>\n",
       "      <td>1387.000000</td>\n",
       "      <td>1387.000000</td>\n",
       "      <td>1387.000000</td>\n",
       "      <td>1387.000000</td>\n",
       "      <td>1387.000000</td>\n",
       "      <td>...</td>\n",
       "      <td>122.000000</td>\n",
       "      <td>122.000000</td>\n",
       "      <td>122.000000</td>\n",
       "      <td>122.000000</td>\n",
       "      <td>122.000000</td>\n",
       "      <td>122.000000</td>\n",
       "      <td>122.000000</td>\n",
       "      <td>122.000000</td>\n",
       "      <td>122.000000</td>\n",
       "      <td>1387.000000</td>\n",
       "    </tr>\n",
       "    <tr>\n",
       "      <th>mean</th>\n",
       "      <td>694.000000</td>\n",
       "      <td>2017.132660</td>\n",
       "      <td>7.622927</td>\n",
       "      <td>6.109589</td>\n",
       "      <td>1.121125</td>\n",
       "      <td>7.775054</td>\n",
       "      <td>7.749099</td>\n",
       "      <td>11.423937</td>\n",
       "      <td>49.824802</td>\n",
       "      <td>11.335977</td>\n",
       "      <td>...</td>\n",
       "      <td>2.049180</td>\n",
       "      <td>14.344262</td>\n",
       "      <td>0.819672</td>\n",
       "      <td>1.639344</td>\n",
       "      <td>1.639344</td>\n",
       "      <td>2.049180</td>\n",
       "      <td>1.229508</td>\n",
       "      <td>5.327869</td>\n",
       "      <td>10.655738</td>\n",
       "      <td>1.669070</td>\n",
       "    </tr>\n",
       "    <tr>\n",
       "      <th>std</th>\n",
       "      <td>400.536723</td>\n",
       "      <td>0.787525</td>\n",
       "      <td>3.146701</td>\n",
       "      <td>2.071127</td>\n",
       "      <td>0.326390</td>\n",
       "      <td>23.024076</td>\n",
       "      <td>23.031140</td>\n",
       "      <td>29.936425</td>\n",
       "      <td>23.064600</td>\n",
       "      <td>29.967604</td>\n",
       "      <td>...</td>\n",
       "      <td>9.953489</td>\n",
       "      <td>63.140768</td>\n",
       "      <td>6.375335</td>\n",
       "      <td>8.940636</td>\n",
       "      <td>8.940636</td>\n",
       "      <td>9.953489</td>\n",
       "      <td>7.775557</td>\n",
       "      <td>37.376450</td>\n",
       "      <td>52.314019</td>\n",
       "      <td>0.470718</td>\n",
       "    </tr>\n",
       "    <tr>\n",
       "      <th>min</th>\n",
       "      <td>1.000000</td>\n",
       "      <td>2016.000000</td>\n",
       "      <td>1.000000</td>\n",
       "      <td>1.000000</td>\n",
       "      <td>1.000000</td>\n",
       "      <td>1.000000</td>\n",
       "      <td>1.000000</td>\n",
       "      <td>1.000000</td>\n",
       "      <td>2.000000</td>\n",
       "      <td>1.000000</td>\n",
       "      <td>...</td>\n",
       "      <td>0.000000</td>\n",
       "      <td>0.000000</td>\n",
       "      <td>0.000000</td>\n",
       "      <td>0.000000</td>\n",
       "      <td>0.000000</td>\n",
       "      <td>0.000000</td>\n",
       "      <td>0.000000</td>\n",
       "      <td>0.000000</td>\n",
       "      <td>0.000000</td>\n",
       "      <td>1.000000</td>\n",
       "    </tr>\n",
       "    <tr>\n",
       "      <th>25%</th>\n",
       "      <td>347.500000</td>\n",
       "      <td>2017.000000</td>\n",
       "      <td>6.000000</td>\n",
       "      <td>5.000000</td>\n",
       "      <td>1.000000</td>\n",
       "      <td>2.000000</td>\n",
       "      <td>2.000000</td>\n",
       "      <td>1.000000</td>\n",
       "      <td>34.000000</td>\n",
       "      <td>1.000000</td>\n",
       "      <td>...</td>\n",
       "      <td>0.000000</td>\n",
       "      <td>0.000000</td>\n",
       "      <td>0.000000</td>\n",
       "      <td>0.000000</td>\n",
       "      <td>0.000000</td>\n",
       "      <td>0.000000</td>\n",
       "      <td>0.000000</td>\n",
       "      <td>0.000000</td>\n",
       "      <td>0.000000</td>\n",
       "      <td>1.000000</td>\n",
       "    </tr>\n",
       "    <tr>\n",
       "      <th>50%</th>\n",
       "      <td>694.000000</td>\n",
       "      <td>2017.000000</td>\n",
       "      <td>8.000000</td>\n",
       "      <td>7.000000</td>\n",
       "      <td>1.000000</td>\n",
       "      <td>2.000000</td>\n",
       "      <td>2.000000</td>\n",
       "      <td>1.000000</td>\n",
       "      <td>46.000000</td>\n",
       "      <td>1.000000</td>\n",
       "      <td>...</td>\n",
       "      <td>0.000000</td>\n",
       "      <td>0.000000</td>\n",
       "      <td>0.000000</td>\n",
       "      <td>0.000000</td>\n",
       "      <td>0.000000</td>\n",
       "      <td>0.000000</td>\n",
       "      <td>0.000000</td>\n",
       "      <td>0.000000</td>\n",
       "      <td>0.000000</td>\n",
       "      <td>2.000000</td>\n",
       "    </tr>\n",
       "    <tr>\n",
       "      <th>75%</th>\n",
       "      <td>1040.500000</td>\n",
       "      <td>2018.000000</td>\n",
       "      <td>10.000000</td>\n",
       "      <td>7.000000</td>\n",
       "      <td>1.000000</td>\n",
       "      <td>2.000000</td>\n",
       "      <td>2.000000</td>\n",
       "      <td>2.000000</td>\n",
       "      <td>59.000000</td>\n",
       "      <td>1.000000</td>\n",
       "      <td>...</td>\n",
       "      <td>0.000000</td>\n",
       "      <td>0.000000</td>\n",
       "      <td>0.000000</td>\n",
       "      <td>0.000000</td>\n",
       "      <td>0.000000</td>\n",
       "      <td>0.000000</td>\n",
       "      <td>0.000000</td>\n",
       "      <td>0.000000</td>\n",
       "      <td>0.000000</td>\n",
       "      <td>2.000000</td>\n",
       "    </tr>\n",
       "    <tr>\n",
       "      <th>max</th>\n",
       "      <td>1387.000000</td>\n",
       "      <td>2019.000000</td>\n",
       "      <td>12.000000</td>\n",
       "      <td>8.000000</td>\n",
       "      <td>2.000000</td>\n",
       "      <td>99.000000</td>\n",
       "      <td>99.000000</td>\n",
       "      <td>99.000000</td>\n",
       "      <td>99.000000</td>\n",
       "      <td>99.000000</td>\n",
       "      <td>...</td>\n",
       "      <td>50.000000</td>\n",
       "      <td>400.000000</td>\n",
       "      <td>50.000000</td>\n",
       "      <td>50.000000</td>\n",
       "      <td>50.000000</td>\n",
       "      <td>50.000000</td>\n",
       "      <td>50.000000</td>\n",
       "      <td>400.000000</td>\n",
       "      <td>400.000000</td>\n",
       "      <td>2.000000</td>\n",
       "    </tr>\n",
       "  </tbody>\n",
       "</table>\n",
       "<p>8 rows × 795 columns</p>\n",
       "</div>"
      ],
      "text/plain": [
       "                ID         Year        Month     Hospital       Sample  \\\n",
       "count  1387.000000  1387.000000  1387.000000  1387.000000  1387.000000   \n",
       "mean    694.000000  2017.132660     7.622927     6.109589     1.121125   \n",
       "std     400.536723     0.787525     3.146701     2.071127     0.326390   \n",
       "min       1.000000  2016.000000     1.000000     1.000000     1.000000   \n",
       "25%     347.500000  2017.000000     6.000000     5.000000     1.000000   \n",
       "50%     694.000000  2017.000000     8.000000     7.000000     1.000000   \n",
       "75%    1040.500000  2018.000000    10.000000     7.000000     1.000000   \n",
       "max    1387.000000  2019.000000    12.000000     8.000000     2.000000   \n",
       "\n",
       "               ICU          OPD          Sex          Age    Ethnicity  ...  \\\n",
       "count  1387.000000  1387.000000  1387.000000  1387.000000  1387.000000  ...   \n",
       "mean      7.775054     7.749099    11.423937    49.824802    11.335977  ...   \n",
       "std      23.024076    23.031140    29.936425    23.064600    29.967604  ...   \n",
       "min       1.000000     1.000000     1.000000     2.000000     1.000000  ...   \n",
       "25%       2.000000     2.000000     1.000000    34.000000     1.000000  ...   \n",
       "50%       2.000000     2.000000     1.000000    46.000000     1.000000  ...   \n",
       "75%       2.000000     2.000000     2.000000    59.000000     1.000000  ...   \n",
       "max      99.000000    99.000000    99.000000    99.000000    99.000000  ...   \n",
       "\n",
       "       FU_L.interrogansserovarMankarsostr.Mankarso  \\\n",
       "count                                   122.000000   \n",
       "mean                                      2.049180   \n",
       "std                                       9.953489   \n",
       "min                                       0.000000   \n",
       "25%                                       0.000000   \n",
       "50%                                       0.000000   \n",
       "75%                                       0.000000   \n",
       "max                                      50.000000   \n",
       "\n",
       "       FU_L.santarosaiserovarGeorgiastr.LT117  \\\n",
       "count                              122.000000   \n",
       "mean                                14.344262   \n",
       "std                                 63.140768   \n",
       "min                                  0.000000   \n",
       "25%                                  0.000000   \n",
       "50%                                  0.000000   \n",
       "75%                                  0.000000   \n",
       "max                                400.000000   \n",
       "\n",
       "       FU_L.santarosaiserovarPyrogenesstr.Salinem  \\\n",
       "count                                  122.000000   \n",
       "mean                                     0.819672   \n",
       "std                                      6.375335   \n",
       "min                                      0.000000   \n",
       "25%                                      0.000000   \n",
       "50%                                      0.000000   \n",
       "75%                                      0.000000   \n",
       "max                                     50.000000   \n",
       "\n",
       "       FU_L.interrogansserovarBataviaestr.VanTienan  \\\n",
       "count                                    122.000000   \n",
       "mean                                       1.639344   \n",
       "std                                        8.940636   \n",
       "min                                        0.000000   \n",
       "25%                                        0.000000   \n",
       "50%                                        0.000000   \n",
       "75%                                        0.000000   \n",
       "max                                       50.000000   \n",
       "\n",
       "       FU_L.interrogansserovarAlexistr.616  \\\n",
       "count                           122.000000   \n",
       "mean                              1.639344   \n",
       "std                               8.940636   \n",
       "min                               0.000000   \n",
       "25%                               0.000000   \n",
       "50%                               0.000000   \n",
       "75%                               0.000000   \n",
       "max                              50.000000   \n",
       "\n",
       "       FU_L.interrogansserovarAustralisstr.Ballico  \\\n",
       "count                                   122.000000   \n",
       "mean                                      2.049180   \n",
       "std                                       9.953489   \n",
       "min                                       0.000000   \n",
       "25%                                       0.000000   \n",
       "50%                                       0.000000   \n",
       "75%                                       0.000000   \n",
       "max                                      50.000000   \n",
       "\n",
       "       FU_L.interrogansserovarwolfiistr.3705  \\\n",
       "count                             122.000000   \n",
       "mean                                1.229508   \n",
       "std                                 7.775557   \n",
       "min                                 0.000000   \n",
       "25%                                 0.000000   \n",
       "50%                                 0.000000   \n",
       "75%                                 0.000000   \n",
       "max                                50.000000   \n",
       "\n",
       "       FU_L.interrogansserovarWeerasinghe    FU_Patoc        Final  \n",
       "count                          122.000000  122.000000  1387.000000  \n",
       "mean                             5.327869   10.655738     1.669070  \n",
       "std                             37.376450   52.314019     0.470718  \n",
       "min                              0.000000    0.000000     1.000000  \n",
       "25%                              0.000000    0.000000     1.000000  \n",
       "50%                              0.000000    0.000000     2.000000  \n",
       "75%                              0.000000    0.000000     2.000000  \n",
       "max                            400.000000  400.000000     2.000000  \n",
       "\n",
       "[8 rows x 795 columns]"
      ]
     },
     "execution_count": 8,
     "metadata": {},
     "output_type": "execute_result"
    }
   ],
   "source": [
    "df.describe()"
   ]
  },
  {
   "cell_type": "markdown",
   "id": "2c79b924-dd47-486e-a02f-0147842eac2e",
   "metadata": {},
   "source": [
    "## Preprocessing"
   ]
  },
  {
   "cell_type": "code",
   "execution_count": 9,
   "id": "74c15ccf-8904-4915-aa32-140fd411fab4",
   "metadata": {},
   "outputs": [
    {
     "data": {
      "text/plain": [
       "0"
      ]
     },
     "execution_count": 9,
     "metadata": {},
     "output_type": "execute_result"
    }
   ],
   "source": [
    "df.duplicated().sum()"
   ]
  },
  {
   "cell_type": "code",
   "execution_count": 10,
   "id": "ebe52914-cd6b-4cb4-ad60-5fa41c6b1671",
   "metadata": {},
   "outputs": [],
   "source": [
    "df = df.drop(\"ID\",axis=1)"
   ]
  },
  {
   "cell_type": "code",
   "execution_count": 11,
   "id": "0cc5b6df-4532-48b9-bc15-5a35e20e1fff",
   "metadata": {},
   "outputs": [],
   "source": [
    "df.replace([\"99\",99],np.nan,inplace=True)"
   ]
  },
  {
   "cell_type": "code",
   "execution_count": 12,
   "id": "528e8d20-ca29-4a4f-8178-79ea0e32459f",
   "metadata": {},
   "outputs": [
    {
     "data": {
      "text/html": [
       "<div>\n",
       "<style scoped>\n",
       "    .dataframe tbody tr th:only-of-type {\n",
       "        vertical-align: middle;\n",
       "    }\n",
       "\n",
       "    .dataframe tbody tr th {\n",
       "        vertical-align: top;\n",
       "    }\n",
       "\n",
       "    .dataframe thead th {\n",
       "        text-align: right;\n",
       "    }\n",
       "</style>\n",
       "<table border=\"1\" class=\"dataframe\">\n",
       "  <thead>\n",
       "    <tr style=\"text-align: right;\">\n",
       "      <th></th>\n",
       "      <th>Year</th>\n",
       "      <th>Month</th>\n",
       "      <th>Hospital</th>\n",
       "      <th>Sample</th>\n",
       "      <th>ICU</th>\n",
       "      <th>OPD</th>\n",
       "      <th>Sex</th>\n",
       "      <th>Age</th>\n",
       "      <th>Ethnicity</th>\n",
       "      <th>Income</th>\n",
       "      <th>...</th>\n",
       "      <th>FU_L.interrogansserovarMankarsostr.Mankarso</th>\n",
       "      <th>FU_L.santarosaiserovarGeorgiastr.LT117</th>\n",
       "      <th>FU_L.santarosaiserovarPyrogenesstr.Salinem</th>\n",
       "      <th>FU_L.interrogansserovarBataviaestr.VanTienan</th>\n",
       "      <th>FU_L.interrogansserovarAlexistr.616</th>\n",
       "      <th>FU_L.interrogansserovarAustralisstr.Ballico</th>\n",
       "      <th>FU_L.interrogansserovarwolfiistr.3705</th>\n",
       "      <th>FU_L.interrogansserovarWeerasinghe</th>\n",
       "      <th>FU_Patoc</th>\n",
       "      <th>Final</th>\n",
       "    </tr>\n",
       "  </thead>\n",
       "  <tbody>\n",
       "    <tr>\n",
       "      <th>0</th>\n",
       "      <td>2018</td>\n",
       "      <td>11</td>\n",
       "      <td>7</td>\n",
       "      <td>1</td>\n",
       "      <td>2.0</td>\n",
       "      <td>2.0</td>\n",
       "      <td>2.0</td>\n",
       "      <td>53.0</td>\n",
       "      <td>1.0</td>\n",
       "      <td>35000.0</td>\n",
       "      <td>...</td>\n",
       "      <td>NaN</td>\n",
       "      <td>NaN</td>\n",
       "      <td>NaN</td>\n",
       "      <td>NaN</td>\n",
       "      <td>NaN</td>\n",
       "      <td>NaN</td>\n",
       "      <td>NaN</td>\n",
       "      <td>NaN</td>\n",
       "      <td>NaN</td>\n",
       "      <td>2</td>\n",
       "    </tr>\n",
       "    <tr>\n",
       "      <th>1</th>\n",
       "      <td>2018</td>\n",
       "      <td>1</td>\n",
       "      <td>7</td>\n",
       "      <td>1</td>\n",
       "      <td>2.0</td>\n",
       "      <td>2.0</td>\n",
       "      <td>1.0</td>\n",
       "      <td>17.0</td>\n",
       "      <td>1.0</td>\n",
       "      <td>NaN</td>\n",
       "      <td>...</td>\n",
       "      <td>NaN</td>\n",
       "      <td>NaN</td>\n",
       "      <td>NaN</td>\n",
       "      <td>NaN</td>\n",
       "      <td>NaN</td>\n",
       "      <td>NaN</td>\n",
       "      <td>NaN</td>\n",
       "      <td>NaN</td>\n",
       "      <td>NaN</td>\n",
       "      <td>1</td>\n",
       "    </tr>\n",
       "    <tr>\n",
       "      <th>2</th>\n",
       "      <td>2018</td>\n",
       "      <td>5</td>\n",
       "      <td>7</td>\n",
       "      <td>1</td>\n",
       "      <td>2.0</td>\n",
       "      <td>2.0</td>\n",
       "      <td>1.0</td>\n",
       "      <td>47.0</td>\n",
       "      <td>1.0</td>\n",
       "      <td>40000.0</td>\n",
       "      <td>...</td>\n",
       "      <td>NaN</td>\n",
       "      <td>NaN</td>\n",
       "      <td>NaN</td>\n",
       "      <td>NaN</td>\n",
       "      <td>NaN</td>\n",
       "      <td>NaN</td>\n",
       "      <td>NaN</td>\n",
       "      <td>NaN</td>\n",
       "      <td>NaN</td>\n",
       "      <td>2</td>\n",
       "    </tr>\n",
       "    <tr>\n",
       "      <th>3</th>\n",
       "      <td>2018</td>\n",
       "      <td>1</td>\n",
       "      <td>7</td>\n",
       "      <td>1</td>\n",
       "      <td>2.0</td>\n",
       "      <td>2.0</td>\n",
       "      <td>1.0</td>\n",
       "      <td>21.0</td>\n",
       "      <td>1.0</td>\n",
       "      <td>30000.0</td>\n",
       "      <td>...</td>\n",
       "      <td>NaN</td>\n",
       "      <td>NaN</td>\n",
       "      <td>NaN</td>\n",
       "      <td>NaN</td>\n",
       "      <td>NaN</td>\n",
       "      <td>NaN</td>\n",
       "      <td>NaN</td>\n",
       "      <td>NaN</td>\n",
       "      <td>NaN</td>\n",
       "      <td>2</td>\n",
       "    </tr>\n",
       "  </tbody>\n",
       "</table>\n",
       "<p>4 rows × 805 columns</p>\n",
       "</div>"
      ],
      "text/plain": [
       "   Year  Month  Hospital  Sample  ICU  OPD  Sex   Age  Ethnicity   Income  \\\n",
       "0  2018     11         7       1  2.0  2.0  2.0  53.0        1.0  35000.0   \n",
       "1  2018      1         7       1  2.0  2.0  1.0  17.0        1.0      NaN   \n",
       "2  2018      5         7       1  2.0  2.0  1.0  47.0        1.0  40000.0   \n",
       "3  2018      1         7       1  2.0  2.0  1.0  21.0        1.0  30000.0   \n",
       "\n",
       "   ...  FU_L.interrogansserovarMankarsostr.Mankarso  \\\n",
       "0  ...                                          NaN   \n",
       "1  ...                                          NaN   \n",
       "2  ...                                          NaN   \n",
       "3  ...                                          NaN   \n",
       "\n",
       "   FU_L.santarosaiserovarGeorgiastr.LT117  \\\n",
       "0                                     NaN   \n",
       "1                                     NaN   \n",
       "2                                     NaN   \n",
       "3                                     NaN   \n",
       "\n",
       "   FU_L.santarosaiserovarPyrogenesstr.Salinem  \\\n",
       "0                                         NaN   \n",
       "1                                         NaN   \n",
       "2                                         NaN   \n",
       "3                                         NaN   \n",
       "\n",
       "   FU_L.interrogansserovarBataviaestr.VanTienan  \\\n",
       "0                                           NaN   \n",
       "1                                           NaN   \n",
       "2                                           NaN   \n",
       "3                                           NaN   \n",
       "\n",
       "   FU_L.interrogansserovarAlexistr.616  \\\n",
       "0                                  NaN   \n",
       "1                                  NaN   \n",
       "2                                  NaN   \n",
       "3                                  NaN   \n",
       "\n",
       "   FU_L.interrogansserovarAustralisstr.Ballico  \\\n",
       "0                                          NaN   \n",
       "1                                          NaN   \n",
       "2                                          NaN   \n",
       "3                                          NaN   \n",
       "\n",
       "   FU_L.interrogansserovarwolfiistr.3705  FU_L.interrogansserovarWeerasinghe  \\\n",
       "0                                    NaN                                 NaN   \n",
       "1                                    NaN                                 NaN   \n",
       "2                                    NaN                                 NaN   \n",
       "3                                    NaN                                 NaN   \n",
       "\n",
       "   FU_Patoc  Final  \n",
       "0       NaN      2  \n",
       "1       NaN      1  \n",
       "2       NaN      2  \n",
       "3       NaN      2  \n",
       "\n",
       "[4 rows x 805 columns]"
      ]
     },
     "execution_count": 12,
     "metadata": {},
     "output_type": "execute_result"
    }
   ],
   "source": [
    "df.head(4)"
   ]
  },
  {
   "cell_type": "code",
   "execution_count": 13,
   "id": "e4f6bcc2-b0f7-491e-abf2-8532095f3c4b",
   "metadata": {},
   "outputs": [
    {
     "data": {
      "image/png": "[encoded data removed]",
      "text/plain": [
       "<Figure size 640x480 with 1 Axes>"
      ]
     },
     "metadata": {},
     "output_type": "display_data"
    }
   ],
   "source": [
    "df.iloc[:,:10].boxplot()\n",
    "plt.show()"
   ]
  },
  {
   "cell_type": "code",
   "execution_count": 14,
   "id": "cc249236-c394-4148-b074-45c51f10f5fd",
   "metadata": {},
   "outputs": [
    {
     "data": {
      "text/plain": [
       "Year                                              0\n",
       "Month                                             0\n",
       "Hospital                                          0\n",
       "Sample                                            0\n",
       "ICU                                              83\n",
       "                                               ... \n",
       "FU_L.interrogansserovarAustralisstr.Ballico    1265\n",
       "FU_L.interrogansserovarwolfiistr.3705          1265\n",
       "FU_L.interrogansserovarWeerasinghe             1265\n",
       "FU_Patoc                                       1265\n",
       "Final                                             0\n",
       "Length: 805, dtype: int64"
      ]
     },
     "execution_count": 14,
     "metadata": {},
     "output_type": "execute_result"
    }
   ],
   "source": [
    "df.isna().sum()"
   ]
  },
  {
   "cell_type": "code",
   "execution_count": 15,
   "id": "e3fa86f7-b7ca-4238-b2fe-8c7d7537f059",
   "metadata": {},
   "outputs": [
    {
     "data": {
      "text/plain": [
       "Year                                            0.000000\n",
       "Month                                           0.000000\n",
       "Hospital                                        0.000000\n",
       "Sample                                          0.000000\n",
       "ICU                                             5.984138\n",
       "                                                 ...    \n",
       "FU_L.interrogansserovarAustralisstr.Ballico    91.204037\n",
       "FU_L.interrogansserovarwolfiistr.3705          91.204037\n",
       "FU_L.interrogansserovarWeerasinghe             91.204037\n",
       "FU_Patoc                                       91.204037\n",
       "Final                                           0.000000\n",
       "Length: 805, dtype: float64"
      ]
     },
     "execution_count": 15,
     "metadata": {},
     "output_type": "execute_result"
    }
   ],
   "source": [
    "df.isna().mean()*100"
   ]
  },
  {
   "cell_type": "markdown",
   "id": "114acc98-c76b-46d0-9ea1-4b08af2c7c51",
   "metadata": {},
   "source": [
    "## Rename Columns"
   ]
  },
  {
   "cell_type": "code",
   "execution_count": 16,
   "id": "64100192-5104-4adc-a992-d6ae23b2b18f",
   "metadata": {},
   "outputs": [],
   "source": [
    "col_names = {'Muscletendernessonset': 'Mustenderonset', 'Muscletendernessad':'Mustenderad', 'Vomitingadmission':'Vomitingad','Cnsuffusionad':'Consufad','Cnsuffusiononset':'Consufonset', \n",
    "           'Mucosalrashonset':'Mucorashonset','Mucosalrashad':'Mucorashad', 'Diarrhoeaonset':'diarrheaonset','Diarrhoeaad':'diarrheaad', 'OliguriaAd':'Oliguriaad', 'Haemoptasisonset':'Haemoptysisonset','Haemoptasisad':'Haemoptysisad', \"SOBadd\": 'SOBad' }\n",
    "df.rename(columns = col_names, inplace=True)"
   ]
  },
  {
   "cell_type": "markdown",
   "id": "24d3316f-dc15-4bcd-9fa7-c5cab7fb7e58",
   "metadata": {},
   "source": [
    "## Marge Several Columns"
   ]
  },
  {
   "cell_type": "code",
   "execution_count": 17,
   "id": "e355d374-ca74-4d33-9d55-fe52ac872d02",
   "metadata": {},
   "outputs": [],
   "source": [
    "# combine some symtoms binary columns as counts\n",
    "\n",
    "col_names1 = ['Headache', 'Fever', 'Chills', 'Rigors', 'Musclepain', 'Mustender', 'Nausea', 'Vomiting', \n",
    "              'Consuf', 'Skinrash', 'Mucorash', 'Prostration', 'diarrhea', 'Oliguria', 'Anuria', 'Jaundice',\n",
    "              'Photophobia', 'Confusion', 'Cough', 'Haemoptysis', 'SOB', 'Chestpain', 'Bleeding']\n",
    "\n",
    "for col in col_names1:\n",
    "    symptom_columns = [f'{col}{i}' for i in ['onset', '2', '3', '4', '5', '6', '7', '8', '9', '10', 'ad']]\n",
    "    df1 = df[symptom_columns].replace(99, np.nan)\n",
    "    \n",
    "    df[col + 'Days'] = df1.apply(lambda row: row.eq(1).sum() if row.notna().any() else np.nan, axis=1)\n",
    "    df.drop(symptom_columns, axis=1, inplace=True)"
   ]
  },
  {
   "cell_type": "code",
   "execution_count": 18,
   "id": "1403c41f-80c9-4ae1-9efd-d2dd6729b2cb",
   "metadata": {},
   "outputs": [],
   "source": [
    "#combine Psychoticsymptoms binary columns as counts\n",
    "\n",
    "col_names2 = {'Hepatictendernessad':'hepatictenderad', 'Hepatomegalyad':'hepatomegalyad', 'Spleenimegalyad':'Spleenomegalyad', 'Lympadenopathyad':'Lymphadenopathyad'}\n",
    "df.rename(columns=col_names2, inplace=True)\n",
    "\n",
    "# List of column prefixes for Psychotic symptoms\n",
    "colnames = ['hepatictender', 'hepatomegaly', 'Spleenomegaly', 'Lymphadenopathy', 'Neckstiffness']\n",
    "\n",
    "for col in colnames:\n",
    "    # Select relevant columns\n",
    "    symptom_columns = [f'{col}{i}' for i in ['2', '3', '4', '5', '6', '7', '8', '9', '10', 'ad']]\n",
    "    df2 = df[symptom_columns].replace(99, np.nan)\n",
    "    \n",
    "    # Calculate the number of days the symptom was present\n",
    "    df[col + 'Days'] = df2.apply(lambda row: row.eq(1).sum() if row.notna().any() else np.nan, axis=1)\n",
    "    \n",
    "    # Drop the original symptom columns\n",
    "    df.drop(symptom_columns, axis=1, inplace=True)"
   ]
  },
  {
   "cell_type": "code",
   "execution_count": 19,
   "id": "b4090561-20d7-4855-9c98-7330b42fa1f0",
   "metadata": {},
   "outputs": [
    {
     "data": {
      "text/plain": [
       "(1387, 530)"
      ]
     },
     "execution_count": 19,
     "metadata": {},
     "output_type": "execute_result"
    }
   ],
   "source": [
    "df.shape"
   ]
  },
  {
   "cell_type": "code",
   "execution_count": 20,
   "id": "73386747-60cf-4d34-b11c-2d66d3a2814f",
   "metadata": {},
   "outputs": [],
   "source": [
    "# combine water area column\n",
    "\n",
    "# Define the columns related to water areas\n",
    "cols = ['HomeStreamrivercanaloranyotherrunningwatersource', \n",
    "        'WorkplaceStreamrivercanaloranyotherrunningwatersource',\n",
    "        'Homepondlaketankoranyotherstagnantwatersource',\n",
    "        'WorkPlacepondlaketankoranyotherstagnantwatersource']\n",
    "\n",
    "# Function to determine the water area status\n",
    "def water_area(row):\n",
    "    if row.isnull().all():\n",
    "        return pd.NA\n",
    "    elif (row == 1).any():\n",
    "        return 1\n",
    "    else:\n",
    "        return 2\n",
    "\n",
    "# Apply the function to each row\n",
    "df['WaterArea'] = df[cols].apply(water_area, axis=1)\n",
    "\n",
    "# Drop the original columns\n",
    "df.drop(cols, axis=1, inplace=True)"
   ]
  },
  {
   "cell_type": "code",
   "execution_count": 21,
   "id": "a75fa99e-b300-4379-b02c-2553607064b1",
   "metadata": {},
   "outputs": [
    {
     "data": {
      "text/plain": [
       "(1387, 527)"
      ]
     },
     "execution_count": 21,
     "metadata": {},
     "output_type": "execute_result"
    }
   ],
   "source": [
    "df.shape"
   ]
  },
  {
   "cell_type": "code",
   "execution_count": 22,
   "id": "b85d692f-b121-425d-8f4c-3454269b2de9",
   "metadata": {},
   "outputs": [],
   "source": [
    "# Drop Columns with all null values\n",
    "\n",
    "df = df.dropna(axis=1,how=\"all\")"
   ]
  },
  {
   "cell_type": "markdown",
   "id": "0da875f7-a0d8-4d18-ab07-9b6107e06f3f",
   "metadata": {},
   "source": [
    "## Remove Columns that are having more missing values"
   ]
  },
  {
   "cell_type": "code",
   "execution_count": 23,
   "id": "3090c46c-ad88-4414-81c3-6845b10f9032",
   "metadata": {},
   "outputs": [],
   "source": [
    "# Calculate the percentage of missing values for each column\n",
    "missing_per = df.isna().mean() * 100\n",
    "\n",
    "# Determine columns to drop based on the threshold (more than 80% missing values)\n",
    "columns_to_drop = missing_per[missing_per > 80].index\n",
    "\n",
    "# Drop columns with more than 80% missing values\n",
    "df.drop(columns_to_drop, axis=1, inplace=True)"
   ]
  },
  {
   "cell_type": "code",
   "execution_count": 24,
   "id": "fa74787c-2035-407c-bfff-fa41764a02b4",
   "metadata": {},
   "outputs": [
    {
     "data": {
      "text/plain": [
       "(1387, 192)"
      ]
     },
     "execution_count": 24,
     "metadata": {},
     "output_type": "execute_result"
    }
   ],
   "source": [
    "df.shape"
   ]
  },
  {
   "cell_type": "code",
   "execution_count": 25,
   "id": "4bbaa7ca-c2a3-4c4e-bbbf-bd3a832fe206",
   "metadata": {},
   "outputs": [
    {
     "data": {
      "text/plain": [
       "Index([], dtype='object')"
      ]
     },
     "execution_count": 25,
     "metadata": {},
     "output_type": "execute_result"
    }
   ],
   "source": [
    "columns_with_99_value=df.columns[df.eq('99').any()]\n",
    "columns_with_99_value"
   ]
  },
  {
   "cell_type": "code",
   "execution_count": 26,
   "id": "8b040fba-01bf-4ba4-9a76-877633ea99b9",
   "metadata": {},
   "outputs": [],
   "source": [
    "missing_percentage = (df == 99).mean()* 100\n",
    "\n",
    "# Determine columns to drop based on the threshold\n",
    "columns_to_drop_2 = missing_percentage[missing_percentage > 50].index\n",
    "\n",
    "# Drop columns with more than 50% missing values\n",
    "df = df.drop(columns_to_drop_2, axis=1)"
   ]
  },
  {
   "cell_type": "code",
   "execution_count": 27,
   "id": "1e83d08a-0d9c-42ee-ab36-9010db3e75c9",
   "metadata": {},
   "outputs": [
    {
     "data": {
      "text/plain": [
       "(1387, 192)"
      ]
     },
     "execution_count": 27,
     "metadata": {},
     "output_type": "execute_result"
    }
   ],
   "source": [
    "df.shape"
   ]
  },
  {
   "cell_type": "code",
   "execution_count": 28,
   "id": "b86ffbdf-6b67-4f20-9339-67c167a500f6",
   "metadata": {},
   "outputs": [
    {
     "name": "stdout",
     "output_type": "stream",
     "text": [
      "<class 'pandas.core.frame.DataFrame'>\n",
      "RangeIndex: 1387 entries, 0 to 1386\n",
      "Data columns (total 192 columns):\n",
      " #    Column                                               Dtype  \n",
      "---   ------                                               -----  \n",
      " 0    Year                                                 int64  \n",
      " 1    Month                                                int64  \n",
      " 2    Hospital                                             int64  \n",
      " 3    Sample                                               int64  \n",
      " 4    ICU                                                  float64\n",
      " 5    OPD                                                  float64\n",
      " 6    Sex                                                  float64\n",
      " 7    Age                                                  float64\n",
      " 8    Ethnicity                                            float64\n",
      " 9    Income                                               float64\n",
      " 10   Education                                            float64\n",
      " 11   TertiaryEducation                                    float64\n",
      " 12   Prophylactics                                        float64\n",
      " 13   Pasttreatments                                       float64\n",
      " 14   Pastantibiotics                                      float64\n",
      " 15   Chronicillness                                       float64\n",
      " 16   Possibleexposure                                     float64\n",
      " 17   Usualdrinkingwatersource                             float64\n",
      " 18   Usualbathingwatersource                              float64\n",
      " 19   Sourceofwaterforhousehold                            float64\n",
      " 20   Garbagedisposalprocedure                             float64\n",
      " 21   Accumilationofrefusal                                float64\n",
      " 22   Availabilityofpublicgarbagecollectionprocedure       float64\n",
      " 23   Homemarshywetland                                    float64\n",
      " 24   Workplacemarshywet                                   float64\n",
      " 25   HomeBushes                                           float64\n",
      " 26   Workplacebushes                                      float64\n",
      " 27   Homeforest                                           float64\n",
      " 28   Workplaceforest                                      float64\n",
      " 29   Homeworkingpaddyfield                                float64\n",
      " 30   WorkPlaceworkingpaddyfield                           float64\n",
      " 31   Homeabondantpaddyfield                               float64\n",
      " 32   Workplaceabondantpaddyfield                          float64\n",
      " 33   Homeotheragricultural                                float64\n",
      " 34   workplaceotheragricultural                           float64\n",
      " 35   Homeanimalfarm                                       float64\n",
      " 36   Workplaceanimalfarm                                  float64\n",
      " 37   Homegarbageaccumilation                              float64\n",
      " 38   Workplacegarbageaccumilation                         float64\n",
      " 39   Homeblockeddrainage                                  float64\n",
      " 40   Workplaceblockeddrainage                             float64\n",
      " 41   Homesewer                                            float64\n",
      " 42   Workplacesewer                                       float64\n",
      " 43   Rathome                                              float64\n",
      " 44   RatWorkplace                                         float64\n",
      " 45   RatNeighbourhood                                     float64\n",
      " 46   Cathome                                              float64\n",
      " 47   Catworkplace                                         float64\n",
      " 48   CatNeighbourhood                                     float64\n",
      " 49   Doghome                                              float64\n",
      " 50   DogWorkplace                                         float64\n",
      " 51   DogNeighbourhood                                     float64\n",
      " 52   Cattlehome                                           float64\n",
      " 53   CattleWorkplace                                      float64\n",
      " 54   CattleNeighbourhood                                  float64\n",
      " 55   PigHome                                              float64\n",
      " 56   PigWorkplace                                         float64\n",
      " 57   PigNeighbourhood                                     float64\n",
      " 58   GoatHome                                             float64\n",
      " 59   GoatWorkplace                                        float64\n",
      " 60   GoatNeighbourhood                                    float64\n",
      " 61   Urumeeyahome                                         float64\n",
      " 62   Urumeeyaworkplace                                    float64\n",
      " 63   UrimeeyaNeighbourhood                                float64\n",
      " 64   OtherrhodentsHome                                    float64\n",
      " 65   Marshlandexposure                                    float64\n",
      " 66   Wetsoilexposure                                      float64\n",
      " 67   Floodexposure                                        float64\n",
      " 68   Forestexposure                                       float64\n",
      " 69   BushesExposure                                       float64\n",
      " 70   Otheragriexposure                                    float64\n",
      " 71   Gardeningexposure                                    float64\n",
      " 72   Otheroutdoorworkexposure                             float64\n",
      " 73   Naturalrunningwaterexposure                          float64\n",
      " 74   Stagnantwaterexposure                                float64\n",
      " 75   Manmaderunningwaterexposure                          float64\n",
      " 76   Drainsexposure                                       float64\n",
      " 77   Otherwaterexposure                                   float64\n",
      " 78   Paddyfieldexposure                                   float64\n",
      " 79   Walkingbarefootoutdoor                               float64\n",
      " 80   CattleHandle                                         float64\n",
      " 81   BuffaloHandle                                        float64\n",
      " 82   Goathandle                                           float64\n",
      " 83   Pighandle                                            float64\n",
      " 84   Cathandle                                            float64\n",
      " 85   Doghandle                                            float64\n",
      " 86   Psychoticsymptomsonset                               float64\n",
      " 87   Psychoticsymptomsad                                  float64\n",
      " 88   PRad                                                 float64\n",
      " 89   SBPadd                                               float64\n",
      " 90   DBPadd                                               float64\n",
      " 91   Pulserate5                                           float64\n",
      " 92   Pulserate6                                           float64\n",
      " 93   Pulserate7                                           float64\n",
      " 94   SBP4                                                 float64\n",
      " 95   DBP4                                                 float64\n",
      " 96   SBP5                                                 float64\n",
      " 97   DBP5                                                 float64\n",
      " 98   SBP6                                                 float64\n",
      " 99   DBP6                                                 float64\n",
      " 100  WBCcount                                             float64\n",
      " 101  Ncount                                               float64\n",
      " 102  N                                                    float64\n",
      " 103  Lcount                                               float64\n",
      " 104  L                                                    float64\n",
      " 105  Plateletcount                                        float64\n",
      " 106  PCV                                                  float64\n",
      " 107  RBC                                                  float64\n",
      " 108  CRP                                                  float64\n",
      " 109  ESR                                                  float64\n",
      " 110  Na                                                   float64\n",
      " 111  K                                                    float64\n",
      " 112  AST                                                  float64\n",
      " 113  ALT                                                  float64\n",
      " 114  T.Bilirubin                                          float64\n",
      " 115  S.creatinine                                         float64\n",
      " 116  B.urea                                               float64\n",
      " 117  WBC_first_day                                        float64\n",
      " 118  WBCcount4                                            float64\n",
      " 119  WBCcount5                                            float64\n",
      " 120  WBCcount6                                            float64\n",
      " 121  Ncount4                                              float64\n",
      " 122  Ncount5                                              float64\n",
      " 123  Ncount6                                              float64\n",
      " 124  N4                                                   float64\n",
      " 125  N5                                                   float64\n",
      " 126  N6                                                   float64\n",
      " 127  Lcount4                                              float64\n",
      " 128  Lcount5                                              float64\n",
      " 129  Lcount6                                              float64\n",
      " 130  L4                                                   float64\n",
      " 131  L5                                                   float64\n",
      " 132  L6                                                   float64\n",
      " 133  Platelet4                                            float64\n",
      " 134  Platelet5                                            float64\n",
      " 135  Platelet6                                            float64\n",
      " 136  PCV4                                                 float64\n",
      " 137  PCV5                                                 float64\n",
      " 138  PCV6                                                 float64\n",
      " 139  RBC4                                                 float64\n",
      " 140  RBC5                                                 float64\n",
      " 141  RBC6                                                 float64\n",
      " 142  WPqPCRDiagnosis                                      float64\n",
      " 143  UrineqPCRDiagnosis                                   float64\n",
      " 144  CultureqPCRDia                                       float64\n",
      " 145  SerumqPCRDiagnosis                                   float64\n",
      " 146  Isolate                                              int64  \n",
      " 147  MAT_set_1                                            float64\n",
      " 148  Acu_L.interrogansserovarBratislavastr.JezBratislava  float64\n",
      " 149  Acu_L.interrogansserovarAutumnalisstr.AkiyamiA       float64\n",
      " 150  Acu_L.weiliiserovarCelledonistr.Celledoni            float64\n",
      " 151  Acu_L.interrogansserovarCanicolastr.Ruebush          float64\n",
      " 152  Acu_L.interrogansserovarIcterohaemorrhagiaestr.RGA   float64\n",
      " 153  Acu_L.interrogansserovarMankarsostr.Mankarso         float64\n",
      " 154  Acu_L.santarosaiserovarGeorgiastr.LT117              float64\n",
      " 155  Acu_L.santarosaiserovarPyrogenesstr.Salinem          float64\n",
      " 156  Acu_L.interrogansserovarBataviaestr.VanTienan        float64\n",
      " 157  Acu_L.interrogansserovarAlexistr.616                 float64\n",
      " 158  Acu_L.interrogansserovarAustralisstr.Ballico         float64\n",
      " 159  Acu_L.interrogansserovarwolfiistr.3705               float64\n",
      " 160  Acu_L.interrogansserovarWeerasinghe                  float64\n",
      " 161  Acu_Patoc                                            float64\n",
      " 162  Final                                                int64  \n",
      " 163  HeadacheDays                                         float64\n",
      " 164  FeverDays                                            float64\n",
      " 165  ChillsDays                                           float64\n",
      " 166  RigorsDays                                           float64\n",
      " 167  MusclepainDays                                       float64\n",
      " 168  MustenderDays                                        float64\n",
      " 169  NauseaDays                                           float64\n",
      " 170  VomitingDays                                         float64\n",
      " 171  ConsufDays                                           float64\n",
      " 172  SkinrashDays                                         float64\n",
      " 173  MucorashDays                                         float64\n",
      " 174  ProstrationDays                                      float64\n",
      " 175  diarrheaDays                                         float64\n",
      " 176  OliguriaDays                                         float64\n",
      " 177  AnuriaDays                                           float64\n",
      " 178  JaundiceDays                                         float64\n",
      " 179  PhotophobiaDays                                      float64\n",
      " 180  ConfusionDays                                        float64\n",
      " 181  CoughDays                                            float64\n",
      " 182  HaemoptysisDays                                      float64\n",
      " 183  SOBDays                                              float64\n",
      " 184  ChestpainDays                                        float64\n",
      " 185  BleedingDays                                         float64\n",
      " 186  hepatictenderDays                                    float64\n",
      " 187  hepatomegalyDays                                     float64\n",
      " 188  SpleenomegalyDays                                    float64\n",
      " 189  LymphadenopathyDays                                  float64\n",
      " 190  NeckstiffnessDays                                    float64\n",
      " 191  WaterArea                                            object \n",
      "dtypes: float64(185), int64(6), object(1)\n",
      "memory usage: 2.0+ MB\n"
     ]
    }
   ],
   "source": [
    "df.info(all)"
   ]
  },
  {
   "cell_type": "markdown",
   "id": "0278dac5-30cd-4778-9a6e-79f1b435825f",
   "metadata": {},
   "source": [
    "## Convert some columns to Category"
   ]
  },
  {
   "cell_type": "code",
   "execution_count": 29,
   "id": "45c3a9d1-0b11-46d4-9508-ba156a8704fc",
   "metadata": {},
   "outputs": [],
   "source": [
    "cat_columns_to_convert = ['Year','Month','Hospital','Sample','ICU','OPD','Sex',\n",
    "                          'Ethnicity','Education','TertiaryEducation','Prophylactics',\n",
    "                          'Pasttreatments','Pastantibiotics','Chronicillness',\n",
    "                          'Possibleexposure','Psychoticsymptomsonset','Psychoticsymptomsad',\n",
    "                          'WPqPCRDiagnosis','Isolate','MAT_set_1','Final']\n",
    "\n",
    "df[cat_columns_to_convert] = df[cat_columns_to_convert].astype('category')\n"
   ]
  },
  {
   "cell_type": "code",
   "execution_count": 30,
   "id": "97176031-448e-434f-9f02-bd0992f3a3c8",
   "metadata": {},
   "outputs": [
    {
     "data": {
      "text/html": [
       "<div>\n",
       "<style scoped>\n",
       "    .dataframe tbody tr th:only-of-type {\n",
       "        vertical-align: middle;\n",
       "    }\n",
       "\n",
       "    .dataframe tbody tr th {\n",
       "        vertical-align: top;\n",
       "    }\n",
       "\n",
       "    .dataframe thead th {\n",
       "        text-align: right;\n",
       "    }\n",
       "</style>\n",
       "<table border=\"1\" class=\"dataframe\">\n",
       "  <thead>\n",
       "    <tr style=\"text-align: right;\">\n",
       "      <th></th>\n",
       "      <th>Age</th>\n",
       "      <th>Income</th>\n",
       "      <th>Usualdrinkingwatersource</th>\n",
       "      <th>Usualbathingwatersource</th>\n",
       "      <th>Sourceofwaterforhousehold</th>\n",
       "      <th>Garbagedisposalprocedure</th>\n",
       "      <th>Accumilationofrefusal</th>\n",
       "      <th>Availabilityofpublicgarbagecollectionprocedure</th>\n",
       "      <th>Homemarshywetland</th>\n",
       "      <th>Workplacemarshywet</th>\n",
       "      <th>...</th>\n",
       "      <th>CoughDays</th>\n",
       "      <th>HaemoptysisDays</th>\n",
       "      <th>SOBDays</th>\n",
       "      <th>ChestpainDays</th>\n",
       "      <th>BleedingDays</th>\n",
       "      <th>hepatictenderDays</th>\n",
       "      <th>hepatomegalyDays</th>\n",
       "      <th>SpleenomegalyDays</th>\n",
       "      <th>LymphadenopathyDays</th>\n",
       "      <th>NeckstiffnessDays</th>\n",
       "    </tr>\n",
       "  </thead>\n",
       "  <tbody>\n",
       "    <tr>\n",
       "      <th>count</th>\n",
       "      <td>1217.000000</td>\n",
       "      <td>851.000000</td>\n",
       "      <td>421.000000</td>\n",
       "      <td>423.000000</td>\n",
       "      <td>421.000000</td>\n",
       "      <td>420.000000</td>\n",
       "      <td>421.000000</td>\n",
       "      <td>401.000000</td>\n",
       "      <td>408.000000</td>\n",
       "      <td>334.000000</td>\n",
       "      <td>...</td>\n",
       "      <td>1076.000000</td>\n",
       "      <td>1077.000000</td>\n",
       "      <td>1076.000000</td>\n",
       "      <td>1076.000000</td>\n",
       "      <td>1069.000000</td>\n",
       "      <td>982.000000</td>\n",
       "      <td>979.000000</td>\n",
       "      <td>977.000000</td>\n",
       "      <td>977.000000</td>\n",
       "      <td>1016.000000</td>\n",
       "    </tr>\n",
       "    <tr>\n",
       "      <th>mean</th>\n",
       "      <td>42.955629</td>\n",
       "      <td>38142.184489</td>\n",
       "      <td>4.349169</td>\n",
       "      <td>3.612293</td>\n",
       "      <td>2.945368</td>\n",
       "      <td>2.497619</td>\n",
       "      <td>1.843230</td>\n",
       "      <td>1.890274</td>\n",
       "      <td>1.799020</td>\n",
       "      <td>1.778443</td>\n",
       "      <td>...</td>\n",
       "      <td>1.919145</td>\n",
       "      <td>0.074280</td>\n",
       "      <td>0.968401</td>\n",
       "      <td>1.047398</td>\n",
       "      <td>0.584659</td>\n",
       "      <td>1.453157</td>\n",
       "      <td>0.312564</td>\n",
       "      <td>0.072671</td>\n",
       "      <td>0.400205</td>\n",
       "      <td>1.298228</td>\n",
       "    </tr>\n",
       "    <tr>\n",
       "      <th>std</th>\n",
       "      <td>14.867828</td>\n",
       "      <td>25581.767906</td>\n",
       "      <td>2.642002</td>\n",
       "      <td>1.975211</td>\n",
       "      <td>1.541292</td>\n",
       "      <td>1.466408</td>\n",
       "      <td>0.364016</td>\n",
       "      <td>0.312938</td>\n",
       "      <td>0.401225</td>\n",
       "      <td>0.415917</td>\n",
       "      <td>...</td>\n",
       "      <td>3.342463</td>\n",
       "      <td>0.695216</td>\n",
       "      <td>2.542463</td>\n",
       "      <td>2.559539</td>\n",
       "      <td>1.848572</td>\n",
       "      <td>2.831911</td>\n",
       "      <td>1.330911</td>\n",
       "      <td>0.648011</td>\n",
       "      <td>1.615283</td>\n",
       "      <td>2.707886</td>\n",
       "    </tr>\n",
       "    <tr>\n",
       "      <th>min</th>\n",
       "      <td>2.000000</td>\n",
       "      <td>3000.000000</td>\n",
       "      <td>1.000000</td>\n",
       "      <td>1.000000</td>\n",
       "      <td>1.000000</td>\n",
       "      <td>1.000000</td>\n",
       "      <td>1.000000</td>\n",
       "      <td>1.000000</td>\n",
       "      <td>1.000000</td>\n",
       "      <td>1.000000</td>\n",
       "      <td>...</td>\n",
       "      <td>0.000000</td>\n",
       "      <td>0.000000</td>\n",
       "      <td>0.000000</td>\n",
       "      <td>0.000000</td>\n",
       "      <td>0.000000</td>\n",
       "      <td>0.000000</td>\n",
       "      <td>0.000000</td>\n",
       "      <td>0.000000</td>\n",
       "      <td>0.000000</td>\n",
       "      <td>0.000000</td>\n",
       "    </tr>\n",
       "    <tr>\n",
       "      <th>25%</th>\n",
       "      <td>32.000000</td>\n",
       "      <td>25000.000000</td>\n",
       "      <td>2.000000</td>\n",
       "      <td>2.000000</td>\n",
       "      <td>2.000000</td>\n",
       "      <td>2.000000</td>\n",
       "      <td>2.000000</td>\n",
       "      <td>2.000000</td>\n",
       "      <td>2.000000</td>\n",
       "      <td>2.000000</td>\n",
       "      <td>...</td>\n",
       "      <td>0.000000</td>\n",
       "      <td>0.000000</td>\n",
       "      <td>0.000000</td>\n",
       "      <td>0.000000</td>\n",
       "      <td>0.000000</td>\n",
       "      <td>0.000000</td>\n",
       "      <td>0.000000</td>\n",
       "      <td>0.000000</td>\n",
       "      <td>0.000000</td>\n",
       "      <td>0.000000</td>\n",
       "    </tr>\n",
       "    <tr>\n",
       "      <th>50%</th>\n",
       "      <td>43.000000</td>\n",
       "      <td>30000.000000</td>\n",
       "      <td>4.000000</td>\n",
       "      <td>4.000000</td>\n",
       "      <td>2.000000</td>\n",
       "      <td>2.000000</td>\n",
       "      <td>2.000000</td>\n",
       "      <td>2.000000</td>\n",
       "      <td>2.000000</td>\n",
       "      <td>2.000000</td>\n",
       "      <td>...</td>\n",
       "      <td>0.000000</td>\n",
       "      <td>0.000000</td>\n",
       "      <td>0.000000</td>\n",
       "      <td>0.000000</td>\n",
       "      <td>0.000000</td>\n",
       "      <td>0.000000</td>\n",
       "      <td>0.000000</td>\n",
       "      <td>0.000000</td>\n",
       "      <td>0.000000</td>\n",
       "      <td>0.000000</td>\n",
       "    </tr>\n",
       "    <tr>\n",
       "      <th>75%</th>\n",
       "      <td>55.000000</td>\n",
       "      <td>45000.000000</td>\n",
       "      <td>8.000000</td>\n",
       "      <td>5.000000</td>\n",
       "      <td>4.000000</td>\n",
       "      <td>3.000000</td>\n",
       "      <td>2.000000</td>\n",
       "      <td>2.000000</td>\n",
       "      <td>2.000000</td>\n",
       "      <td>2.000000</td>\n",
       "      <td>...</td>\n",
       "      <td>3.000000</td>\n",
       "      <td>0.000000</td>\n",
       "      <td>0.000000</td>\n",
       "      <td>0.000000</td>\n",
       "      <td>0.000000</td>\n",
       "      <td>1.000000</td>\n",
       "      <td>0.000000</td>\n",
       "      <td>0.000000</td>\n",
       "      <td>0.000000</td>\n",
       "      <td>0.000000</td>\n",
       "    </tr>\n",
       "    <tr>\n",
       "      <th>max</th>\n",
       "      <td>87.000000</td>\n",
       "      <td>350000.000000</td>\n",
       "      <td>8.000000</td>\n",
       "      <td>8.000000</td>\n",
       "      <td>8.000000</td>\n",
       "      <td>7.000000</td>\n",
       "      <td>2.000000</td>\n",
       "      <td>2.000000</td>\n",
       "      <td>2.000000</td>\n",
       "      <td>2.000000</td>\n",
       "      <td>...</td>\n",
       "      <td>11.000000</td>\n",
       "      <td>11.000000</td>\n",
       "      <td>11.000000</td>\n",
       "      <td>11.000000</td>\n",
       "      <td>11.000000</td>\n",
       "      <td>10.000000</td>\n",
       "      <td>10.000000</td>\n",
       "      <td>10.000000</td>\n",
       "      <td>10.000000</td>\n",
       "      <td>10.000000</td>\n",
       "    </tr>\n",
       "  </tbody>\n",
       "</table>\n",
       "<p>8 rows × 170 columns</p>\n",
       "</div>"
      ],
      "text/plain": [
       "               Age         Income  Usualdrinkingwatersource  \\\n",
       "count  1217.000000     851.000000                421.000000   \n",
       "mean     42.955629   38142.184489                  4.349169   \n",
       "std      14.867828   25581.767906                  2.642002   \n",
       "min       2.000000    3000.000000                  1.000000   \n",
       "25%      32.000000   25000.000000                  2.000000   \n",
       "50%      43.000000   30000.000000                  4.000000   \n",
       "75%      55.000000   45000.000000                  8.000000   \n",
       "max      87.000000  350000.000000                  8.000000   \n",
       "\n",
       "       Usualbathingwatersource  Sourceofwaterforhousehold  \\\n",
       "count               423.000000                 421.000000   \n",
       "mean                  3.612293                   2.945368   \n",
       "std                   1.975211                   1.541292   \n",
       "min                   1.000000                   1.000000   \n",
       "25%                   2.000000                   2.000000   \n",
       "50%                   4.000000                   2.000000   \n",
       "75%                   5.000000                   4.000000   \n",
       "max                   8.000000                   8.000000   \n",
       "\n",
       "       Garbagedisposalprocedure  Accumilationofrefusal  \\\n",
       "count                420.000000             421.000000   \n",
       "mean                   2.497619               1.843230   \n",
       "std                    1.466408               0.364016   \n",
       "min                    1.000000               1.000000   \n",
       "25%                    2.000000               2.000000   \n",
       "50%                    2.000000               2.000000   \n",
       "75%                    3.000000               2.000000   \n",
       "max                    7.000000               2.000000   \n",
       "\n",
       "       Availabilityofpublicgarbagecollectionprocedure  Homemarshywetland  \\\n",
       "count                                      401.000000         408.000000   \n",
       "mean                                         1.890274           1.799020   \n",
       "std                                          0.312938           0.401225   \n",
       "min                                          1.000000           1.000000   \n",
       "25%                                          2.000000           2.000000   \n",
       "50%                                          2.000000           2.000000   \n",
       "75%                                          2.000000           2.000000   \n",
       "max                                          2.000000           2.000000   \n",
       "\n",
       "       Workplacemarshywet  ...    CoughDays  HaemoptysisDays      SOBDays  \\\n",
       "count          334.000000  ...  1076.000000      1077.000000  1076.000000   \n",
       "mean             1.778443  ...     1.919145         0.074280     0.968401   \n",
       "std              0.415917  ...     3.342463         0.695216     2.542463   \n",
       "min              1.000000  ...     0.000000         0.000000     0.000000   \n",
       "25%              2.000000  ...     0.000000         0.000000     0.000000   \n",
       "50%              2.000000  ...     0.000000         0.000000     0.000000   \n",
       "75%              2.000000  ...     3.000000         0.000000     0.000000   \n",
       "max              2.000000  ...    11.000000        11.000000    11.000000   \n",
       "\n",
       "       ChestpainDays  BleedingDays  hepatictenderDays  hepatomegalyDays  \\\n",
       "count    1076.000000   1069.000000         982.000000        979.000000   \n",
       "mean        1.047398      0.584659           1.453157          0.312564   \n",
       "std         2.559539      1.848572           2.831911          1.330911   \n",
       "min         0.000000      0.000000           0.000000          0.000000   \n",
       "25%         0.000000      0.000000           0.000000          0.000000   \n",
       "50%         0.000000      0.000000           0.000000          0.000000   \n",
       "75%         0.000000      0.000000           1.000000          0.000000   \n",
       "max        11.000000     11.000000          10.000000         10.000000   \n",
       "\n",
       "       SpleenomegalyDays  LymphadenopathyDays  NeckstiffnessDays  \n",
       "count         977.000000           977.000000        1016.000000  \n",
       "mean            0.072671             0.400205           1.298228  \n",
       "std             0.648011             1.615283           2.707886  \n",
       "min             0.000000             0.000000           0.000000  \n",
       "25%             0.000000             0.000000           0.000000  \n",
       "50%             0.000000             0.000000           0.000000  \n",
       "75%             0.000000             0.000000           0.000000  \n",
       "max            10.000000            10.000000          10.000000  \n",
       "\n",
       "[8 rows x 170 columns]"
      ]
     },
     "execution_count": 30,
     "metadata": {},
     "output_type": "execute_result"
    }
   ],
   "source": [
    "df.describe()"
   ]
  },
  {
   "cell_type": "markdown",
   "id": "866b0d9d-d33b-4a81-91a8-09c250c0d1fc",
   "metadata": {},
   "source": [
    "## Impute missing values"
   ]
  },
  {
   "cell_type": "code",
   "execution_count": 31,
   "id": "ae56fef6-7228-4098-993b-bce37da26ecc",
   "metadata": {},
   "outputs": [
    {
     "data": {
      "text/plain": [
       "Year                     0\n",
       "Month                    0\n",
       "Hospital                 0\n",
       "Sample                   0\n",
       "ICU                     83\n",
       "                      ... \n",
       "hepatomegalyDays       408\n",
       "SpleenomegalyDays      410\n",
       "LymphadenopathyDays    410\n",
       "NeckstiffnessDays      371\n",
       "WaterArea              975\n",
       "Length: 192, dtype: int64"
      ]
     },
     "execution_count": 31,
     "metadata": {},
     "output_type": "execute_result"
    }
   ],
   "source": [
    "df.isna().sum()"
   ]
  },
  {
   "cell_type": "code",
   "execution_count": 32,
   "id": "e2c7d7b4-916b-48dc-b387-1a69dd3fbbe5",
   "metadata": {},
   "outputs": [
    {
     "data": {
      "text/plain": [
       "Index(['ICU', 'OPD', 'Sex', 'Age', 'Ethnicity', 'Income', 'Education',\n",
       "       'TertiaryEducation', 'Prophylactics', 'Pasttreatments',\n",
       "       ...\n",
       "       'HaemoptysisDays', 'SOBDays', 'ChestpainDays', 'BleedingDays',\n",
       "       'hepatictenderDays', 'hepatomegalyDays', 'SpleenomegalyDays',\n",
       "       'LymphadenopathyDays', 'NeckstiffnessDays', 'WaterArea'],\n",
       "      dtype='object', length=186)"
      ]
     },
     "execution_count": 32,
     "metadata": {},
     "output_type": "execute_result"
    }
   ],
   "source": [
    "col_missing_values=df.columns[df.isna().any()]\n",
    "col_missing_values"
   ]
  },
  {
   "cell_type": "code",
   "execution_count": 33,
   "id": "1e99d176-c504-4ccb-81ce-8113627a1634",
   "metadata": {},
   "outputs": [],
   "source": [
    "impute_train=df.copy()"
   ]
  },
  {
   "cell_type": "code",
   "execution_count": 34,
   "id": "a8710699-d31b-4233-bc64-3dcafe3118c7",
   "metadata": {},
   "outputs": [],
   "source": [
    "impute_train=impute_train.fillna(impute_train.mode().iloc[0])"
   ]
  },
  {
   "cell_type": "code",
   "execution_count": 35,
   "id": "e3f43471-f3cf-447d-87fb-7f258aa009ba",
   "metadata": {},
   "outputs": [
    {
     "data": {
      "text/plain": [
       "Index([], dtype='object')"
      ]
     },
     "execution_count": 35,
     "metadata": {},
     "output_type": "execute_result"
    }
   ],
   "source": [
    "col_missing_values=impute_train.columns[impute_train.isna().any()]\n",
    "col_missing_values"
   ]
  },
  {
   "cell_type": "code",
   "execution_count": 36,
   "id": "95ac7dbb-8489-49da-a269-25b2421e21d9",
   "metadata": {},
   "outputs": [
    {
     "data": {
      "text/plain": [
       "Year                   0\n",
       "Month                  0\n",
       "Hospital               0\n",
       "Sample                 0\n",
       "ICU                    0\n",
       "                      ..\n",
       "hepatomegalyDays       0\n",
       "SpleenomegalyDays      0\n",
       "LymphadenopathyDays    0\n",
       "NeckstiffnessDays      0\n",
       "WaterArea              0\n",
       "Length: 192, dtype: int64"
      ]
     },
     "execution_count": 36,
     "metadata": {},
     "output_type": "execute_result"
    }
   ],
   "source": [
    "impute_train.isna().sum()"
   ]
  },
  {
   "cell_type": "code",
   "execution_count": 37,
   "id": "e2673b64-b932-4f7f-8545-3b6e66958a7b",
   "metadata": {},
   "outputs": [
    {
     "name": "stdout",
     "output_type": "stream",
     "text": [
      "<class 'pandas.core.frame.DataFrame'>\n",
      "RangeIndex: 1387 entries, 0 to 1386\n",
      "Data columns (total 192 columns):\n",
      " #    Column                                               Dtype   \n",
      "---   ------                                               -----   \n",
      " 0    Year                                                 category\n",
      " 1    Month                                                category\n",
      " 2    Hospital                                             category\n",
      " 3    Sample                                               category\n",
      " 4    ICU                                                  category\n",
      " 5    OPD                                                  category\n",
      " 6    Sex                                                  category\n",
      " 7    Age                                                  float64 \n",
      " 8    Ethnicity                                            category\n",
      " 9    Income                                               float64 \n",
      " 10   Education                                            category\n",
      " 11   TertiaryEducation                                    category\n",
      " 12   Prophylactics                                        category\n",
      " 13   Pasttreatments                                       category\n",
      " 14   Pastantibiotics                                      category\n",
      " 15   Chronicillness                                       category\n",
      " 16   Possibleexposure                                     category\n",
      " 17   Usualdrinkingwatersource                             float64 \n",
      " 18   Usualbathingwatersource                              float64 \n",
      " 19   Sourceofwaterforhousehold                            float64 \n",
      " 20   Garbagedisposalprocedure                             float64 \n",
      " 21   Accumilationofrefusal                                float64 \n",
      " 22   Availabilityofpublicgarbagecollectionprocedure       float64 \n",
      " 23   Homemarshywetland                                    float64 \n",
      " 24   Workplacemarshywet                                   float64 \n",
      " 25   HomeBushes                                           float64 \n",
      " 26   Workplacebushes                                      float64 \n",
      " 27   Homeforest                                           float64 \n",
      " 28   Workplaceforest                                      float64 \n",
      " 29   Homeworkingpaddyfield                                float64 \n",
      " 30   WorkPlaceworkingpaddyfield                           float64 \n",
      " 31   Homeabondantpaddyfield                               float64 \n",
      " 32   Workplaceabondantpaddyfield                          float64 \n",
      " 33   Homeotheragricultural                                float64 \n",
      " 34   workplaceotheragricultural                           float64 \n",
      " 35   Homeanimalfarm                                       float64 \n",
      " 36   Workplaceanimalfarm                                  float64 \n",
      " 37   Homegarbageaccumilation                              float64 \n",
      " 38   Workplacegarbageaccumilation                         float64 \n",
      " 39   Homeblockeddrainage                                  float64 \n",
      " 40   Workplaceblockeddrainage                             float64 \n",
      " 41   Homesewer                                            float64 \n",
      " 42   Workplacesewer                                       float64 \n",
      " 43   Rathome                                              float64 \n",
      " 44   RatWorkplace                                         float64 \n",
      " 45   RatNeighbourhood                                     float64 \n",
      " 46   Cathome                                              float64 \n",
      " 47   Catworkplace                                         float64 \n",
      " 48   CatNeighbourhood                                     float64 \n",
      " 49   Doghome                                              float64 \n",
      " 50   DogWorkplace                                         float64 \n",
      " 51   DogNeighbourhood                                     float64 \n",
      " 52   Cattlehome                                           float64 \n",
      " 53   CattleWorkplace                                      float64 \n",
      " 54   CattleNeighbourhood                                  float64 \n",
      " 55   PigHome                                              float64 \n",
      " 56   PigWorkplace                                         float64 \n",
      " 57   PigNeighbourhood                                     float64 \n",
      " 58   GoatHome                                             float64 \n",
      " 59   GoatWorkplace                                        float64 \n",
      " 60   GoatNeighbourhood                                    float64 \n",
      " 61   Urumeeyahome                                         float64 \n",
      " 62   Urumeeyaworkplace                                    float64 \n",
      " 63   UrimeeyaNeighbourhood                                float64 \n",
      " 64   OtherrhodentsHome                                    float64 \n",
      " 65   Marshlandexposure                                    float64 \n",
      " 66   Wetsoilexposure                                      float64 \n",
      " 67   Floodexposure                                        float64 \n",
      " 68   Forestexposure                                       float64 \n",
      " 69   BushesExposure                                       float64 \n",
      " 70   Otheragriexposure                                    float64 \n",
      " 71   Gardeningexposure                                    float64 \n",
      " 72   Otheroutdoorworkexposure                             float64 \n",
      " 73   Naturalrunningwaterexposure                          float64 \n",
      " 74   Stagnantwaterexposure                                float64 \n",
      " 75   Manmaderunningwaterexposure                          float64 \n",
      " 76   Drainsexposure                                       float64 \n",
      " 77   Otherwaterexposure                                   float64 \n",
      " 78   Paddyfieldexposure                                   float64 \n",
      " 79   Walkingbarefootoutdoor                               float64 \n",
      " 80   CattleHandle                                         float64 \n",
      " 81   BuffaloHandle                                        float64 \n",
      " 82   Goathandle                                           float64 \n",
      " 83   Pighandle                                            float64 \n",
      " 84   Cathandle                                            float64 \n",
      " 85   Doghandle                                            float64 \n",
      " 86   Psychoticsymptomsonset                               category\n",
      " 87   Psychoticsymptomsad                                  category\n",
      " 88   PRad                                                 float64 \n",
      " 89   SBPadd                                               float64 \n",
      " 90   DBPadd                                               float64 \n",
      " 91   Pulserate5                                           float64 \n",
      " 92   Pulserate6                                           float64 \n",
      " 93   Pulserate7                                           float64 \n",
      " 94   SBP4                                                 float64 \n",
      " 95   DBP4                                                 float64 \n",
      " 96   SBP5                                                 float64 \n",
      " 97   DBP5                                                 float64 \n",
      " 98   SBP6                                                 float64 \n",
      " 99   DBP6                                                 float64 \n",
      " 100  WBCcount                                             float64 \n",
      " 101  Ncount                                               float64 \n",
      " 102  N                                                    float64 \n",
      " 103  Lcount                                               float64 \n",
      " 104  L                                                    float64 \n",
      " 105  Plateletcount                                        float64 \n",
      " 106  PCV                                                  float64 \n",
      " 107  RBC                                                  float64 \n",
      " 108  CRP                                                  float64 \n",
      " 109  ESR                                                  float64 \n",
      " 110  Na                                                   float64 \n",
      " 111  K                                                    float64 \n",
      " 112  AST                                                  float64 \n",
      " 113  ALT                                                  float64 \n",
      " 114  T.Bilirubin                                          float64 \n",
      " 115  S.creatinine                                         float64 \n",
      " 116  B.urea                                               float64 \n",
      " 117  WBC_first_day                                        float64 \n",
      " 118  WBCcount4                                            float64 \n",
      " 119  WBCcount5                                            float64 \n",
      " 120  WBCcount6                                            float64 \n",
      " 121  Ncount4                                              float64 \n",
      " 122  Ncount5                                              float64 \n",
      " 123  Ncount6                                              float64 \n",
      " 124  N4                                                   float64 \n",
      " 125  N5                                                   float64 \n",
      " 126  N6                                                   float64 \n",
      " 127  Lcount4                                              float64 \n",
      " 128  Lcount5                                              float64 \n",
      " 129  Lcount6                                              float64 \n",
      " 130  L4                                                   float64 \n",
      " 131  L5                                                   float64 \n",
      " 132  L6                                                   float64 \n",
      " 133  Platelet4                                            float64 \n",
      " 134  Platelet5                                            float64 \n",
      " 135  Platelet6                                            float64 \n",
      " 136  PCV4                                                 float64 \n",
      " 137  PCV5                                                 float64 \n",
      " 138  PCV6                                                 float64 \n",
      " 139  RBC4                                                 float64 \n",
      " 140  RBC5                                                 float64 \n",
      " 141  RBC6                                                 float64 \n",
      " 142  WPqPCRDiagnosis                                      category\n",
      " 143  UrineqPCRDiagnosis                                   float64 \n",
      " 144  CultureqPCRDia                                       float64 \n",
      " 145  SerumqPCRDiagnosis                                   float64 \n",
      " 146  Isolate                                              category\n",
      " 147  MAT_set_1                                            category\n",
      " 148  Acu_L.interrogansserovarBratislavastr.JezBratislava  float64 \n",
      " 149  Acu_L.interrogansserovarAutumnalisstr.AkiyamiA       float64 \n",
      " 150  Acu_L.weiliiserovarCelledonistr.Celledoni            float64 \n",
      " 151  Acu_L.interrogansserovarCanicolastr.Ruebush          float64 \n",
      " 152  Acu_L.interrogansserovarIcterohaemorrhagiaestr.RGA   float64 \n",
      " 153  Acu_L.interrogansserovarMankarsostr.Mankarso         float64 \n",
      " 154  Acu_L.santarosaiserovarGeorgiastr.LT117              float64 \n",
      " 155  Acu_L.santarosaiserovarPyrogenesstr.Salinem          float64 \n",
      " 156  Acu_L.interrogansserovarBataviaestr.VanTienan        float64 \n",
      " 157  Acu_L.interrogansserovarAlexistr.616                 float64 \n",
      " 158  Acu_L.interrogansserovarAustralisstr.Ballico         float64 \n",
      " 159  Acu_L.interrogansserovarwolfiistr.3705               float64 \n",
      " 160  Acu_L.interrogansserovarWeerasinghe                  float64 \n",
      " 161  Acu_Patoc                                            float64 \n",
      " 162  Final                                                category\n",
      " 163  HeadacheDays                                         float64 \n",
      " 164  FeverDays                                            float64 \n",
      " 165  ChillsDays                                           float64 \n",
      " 166  RigorsDays                                           float64 \n",
      " 167  MusclepainDays                                       float64 \n",
      " 168  MustenderDays                                        float64 \n",
      " 169  NauseaDays                                           float64 \n",
      " 170  VomitingDays                                         float64 \n",
      " 171  ConsufDays                                           float64 \n",
      " 172  SkinrashDays                                         float64 \n",
      " 173  MucorashDays                                         float64 \n",
      " 174  ProstrationDays                                      float64 \n",
      " 175  diarrheaDays                                         float64 \n",
      " 176  OliguriaDays                                         float64 \n",
      " 177  AnuriaDays                                           float64 \n",
      " 178  JaundiceDays                                         float64 \n",
      " 179  PhotophobiaDays                                      float64 \n",
      " 180  ConfusionDays                                        float64 \n",
      " 181  CoughDays                                            float64 \n",
      " 182  HaemoptysisDays                                      float64 \n",
      " 183  SOBDays                                              float64 \n",
      " 184  ChestpainDays                                        float64 \n",
      " 185  BleedingDays                                         float64 \n",
      " 186  hepatictenderDays                                    float64 \n",
      " 187  hepatomegalyDays                                     float64 \n",
      " 188  SpleenomegalyDays                                    float64 \n",
      " 189  LymphadenopathyDays                                  float64 \n",
      " 190  NeckstiffnessDays                                    float64 \n",
      " 191  WaterArea                                            int64   \n",
      "dtypes: category(21), float64(170), int64(1)\n",
      "memory usage: 1.8 MB\n"
     ]
    }
   ],
   "source": [
    "impute_train.info(all)"
   ]
  },
  {
   "cell_type": "markdown",
   "id": "a9fcb7b9-5a73-4a6f-95ef-ff7ed2248be4",
   "metadata": {},
   "source": [
    "## Impute Outliers"
   ]
  },
  {
   "cell_type": "raw",
   "id": "427d3666-0efc-4386-a4e3-0a5de05127a0",
   "metadata": {},
   "source": [
    "numerical_columns = impute_train.select_dtypes(include=['int64','float64']).columns\n",
    "numerical_columns\n",
    "\n",
    "data = impute_train[numerical_columns]\n",
    "\n",
    "# Define a function to identify and handle outliers using IQR method\n",
    "def handle_outliers(data,threshold=1.5):\n",
    "    Q1 = data.quantile(0.25)\n",
    "    Q3 = data.quantile(0.75)\n",
    "    IQR = Q3-Q1\n",
    "    \n",
    "    lower = Q1 - threshold*IQR\n",
    "    upper = Q3 + threshold*IQR\n",
    "    \n",
    "    # Replace outliers with the median value\n",
    "    data = np.where((data<lower)|(data>upper),data.median(),data)\n",
    "    return data\n",
    "\n",
    "# Handle outliers in the dataset\n",
    "outlier_handled_data = data.apply(handle_outliers)\n",
    "\n",
    "impute_train[numerical_columns] = outlier_handled_data[numerical_columns]\n",
    "print(impute_train)\n",
    "    "
   ]
  },
  {
   "cell_type": "markdown",
   "id": "8709e60d-15f9-4efd-aca3-202057e27936",
   "metadata": {},
   "source": [
    "# Part a)"
   ]
  },
  {
   "cell_type": "markdown",
   "id": "ca7ebf32-daf9-4d8c-ab03-a778d79450bc",
   "metadata": {},
   "source": [
    "Do a thorough descriptive analysis and identify the patterns and potential \n",
    "significant variables. Use appropriate plots and tables. "
   ]
  },
  {
   "cell_type": "markdown",
   "id": "80092ff7-6890-4d18-b5ae-7a63bfa29059",
   "metadata": {},
   "source": [
    "## Descriptive Analysis"
   ]
  },
  {
   "cell_type": "code",
   "execution_count": 38,
   "id": "27ef1925-3015-4404-9e23-d4df3416bdd6",
   "metadata": {},
   "outputs": [
    {
     "name": "stderr",
     "output_type": "stream",
     "text": [
      "C:\\Users\\nipun\\AppData\\Local\\Temp\\ipykernel_12000\\1286827203.py:6: PerformanceWarning: DataFrame is highly fragmented.  This is usually the result of calling `frame.insert` many times, which has poor performance.  Consider joining all columns at once using pd.concat(axis=1) instead. To get a de-fragmented frame, use `newframe = frame.copy()`\n",
      "  impute_train['Final_label'] = impute_train['Final'].map({1: 'Confirmed', 2: 'Not detected'})\n",
      "C:\\Users\\nipun\\anaconda3\\Lib\\site-packages\\seaborn\\categorical.py:641: FutureWarning: The default of observed=False is deprecated and will be changed to True in a future version of pandas. Pass observed=False to retain current behavior or observed=True to adopt the future default and silence this warning.\n",
      "  grouped_vals = vals.groupby(grouper)\n"
     ]
    },
    {
     "data": {
      "image/png": "[encoded data removed]",
      "text/plain": [
       "<Figure size 640x480 with 1 Axes>"
      ]
     },
     "metadata": {},
     "output_type": "display_data"
    }
   ],
   "source": [
    "# Final\n",
    "\n",
    "# Define custom color palette\n",
    "custom_palette = sns.color_palette([\"yellow\", \"darkblue\"])\n",
    "\n",
    "impute_train['Final_label'] = impute_train['Final'].map({1: 'Confirmed', 2: 'Not detected'})\n",
    "\n",
    "# Calculate the percentage of each category\n",
    "percentage_data = impute_train['Final_label'].value_counts(normalize=True) * 100\n",
    "\n",
    "# Plotting the bar plot with custom palette\n",
    "ax = sns.barplot(x=percentage_data.index, y=percentage_data.values, palette=custom_palette)\n",
    "plt.xlabel('Final Result')\n",
    "plt.ylabel('Percentage')\n",
    "plt.title('Distribution of Final Results')\n",
    "# Adding percentage labels to the bars\n",
    "for p in ax.patches:\n",
    "    ax.annotate(f'{p.get_height():.2f}%', (p.get_x() + p.get_width() / 2., p.get_height()), ha='center', va='center', xytext=(0, 10), textcoords='offset points')\n",
    "\n",
    "plt.show()"
   ]
  },
  {
   "cell_type": "markdown",
   "id": "950b076d-8eeb-484a-bc5d-62f37452cd75",
   "metadata": {},
   "source": [
    "The bar chart shows the Distribution of Final Results. The final variable on the x-axis is \"Final Result\", which appears to be the outcome of a medical test for Leptospirosis infection. There are two possible results: \"Confirmed\" (positive) and \"Not detected\" (negative). The y-axis shows the percentage of patients who tested positive or negative. Based on the chart, it appears that the dataset is imbalanced. A significantly higher percentage of tests came back negative (66.91%) compared to positive (33.09%). From this we can identify dataset is imbalanced."
   ]
  },
  {
   "cell_type": "code",
   "execution_count": 39,
   "id": "c350d882-869f-4510-9bdd-51aedeb635ad",
   "metadata": {},
   "outputs": [
    {
     "name": "stderr",
     "output_type": "stream",
     "text": [
      "C:\\Users\\nipun\\AppData\\Local\\Temp\\ipykernel_12000\\3734563322.py:3: PerformanceWarning: DataFrame is highly fragmented.  This is usually the result of calling `frame.insert` many times, which has poor performance.  Consider joining all columns at once using pd.concat(axis=1) instead. To get a de-fragmented frame, use `newframe = frame.copy()`\n",
      "  impute_train['Hospital_label'] = impute_train['Hospital'].map({\n",
      "C:\\Users\\nipun\\anaconda3\\Lib\\site-packages\\seaborn\\categorical.py:641: FutureWarning: The default of observed=False is deprecated and will be changed to True in a future version of pandas. Pass observed=False to retain current behavior or observed=True to adopt the future default and silence this warning.\n",
      "  grouped_vals = vals.groupby(grouper)\n"
     ]
    },
    {
     "data": {
      "image/png": "[encoded data removed]",
      "text/plain": [
       "<Figure size 1000x600 with 1 Axes>"
      ]
     },
     "metadata": {},
     "output_type": "display_data"
    }
   ],
   "source": [
    "# Hospitals\n",
    "\n",
    "impute_train['Hospital_label'] = impute_train['Hospital'].map({\n",
    "    1: 'Base Hospital Awissawella',\n",
    "    2: 'District General Hospital Kegalle',\n",
    "    3: 'Base hospital Karawanella',\n",
    "    4: 'District General Hospital Polonnaruwa',\n",
    "    5: 'Teaching Hospital Rathnapura',\n",
    "    6: 'Sri Jayawardanapura General Hospital',\n",
    "    7: 'Teaching Hospital Anuradhapura',\n",
    "    8: 'Teaching Hospital Peradeniya'\n",
    "})\n",
    "\n",
    "# Calculate percentage\n",
    "percentage_Hospital = impute_train['Hospital_label'].value_counts(normalize=True) * 100\n",
    "\n",
    "# Plotting the bar plot\n",
    "plt.figure(figsize=(10, 6))  # Set the figure size\n",
    "ax_status = sns.barplot(x=percentage_Hospital.index, y=percentage_Hospital.values)\n",
    "plt.xlabel('Hospital')\n",
    "plt.ylabel('Percentage')\n",
    "plt.title('Distribution of Hospital')\n",
    "\n",
    "# Adding percentage labels to the bars\n",
    "for p in ax_status.patches:\n",
    "    ax_status.annotate(f'{p.get_height():.2f}%', (p.get_x() + p.get_width() / 2., p.get_height()), ha='center', va='center', xytext=(0, 10), textcoords='offset points')\n",
    "\n",
    "plt.xticks(rotation=45)  # Rotate x-axis labels for better visibility\n",
    "plt.tight_layout()  # Adjust layout to prevent labels from being cut off\n",
    "plt.show()"
   ]
  },
  {
   "cell_type": "markdown",
   "id": "10335c1e-7f14-461e-a701-16b1a9e8feba",
   "metadata": {},
   "source": [
    "The data strongly suggests that patients highly trust Sri Jayawardanapura General Hospital, as many patients have been treated there. Given that this hospital is situated in Colombo, it's plausible to assume that the prevalence of this disease may be higher in Colombo, as indicated by the hospital's patient volume."
   ]
  },
  {
   "cell_type": "code",
   "execution_count": 40,
   "id": "e0e4b5df-60b3-47c3-a9d7-309f5a791a4e",
   "metadata": {},
   "outputs": [
    {
     "name": "stderr",
     "output_type": "stream",
     "text": [
      "C:\\Users\\nipun\\AppData\\Local\\Temp\\ipykernel_12000\\1069909706.py:8: FutureWarning: The default of observed=False is deprecated and will be changed to True in a future version of pandas. Pass observed=False to retain current behavior or observed=True to adopt the future default and silence this warning.\n",
      "  year_counts = dfn.groupby(['Year', 'Final']).size().unstack(fill_value=0)\n"
     ]
    },
    {
     "data": {
      "text/plain": [
       "<Figure size 1000x600 with 0 Axes>"
      ]
     },
     "metadata": {},
     "output_type": "display_data"
    },
    {
     "data": {
      "image/png": "[encoded data removed]",
      "text/plain": [
       "<Figure size 640x480 with 1 Axes>"
      ]
     },
     "metadata": {},
     "output_type": "display_data"
    }
   ],
   "source": [
    "# Year vs Final\n",
    "\n",
    "data = {'Year': impute_train['Year'],\n",
    "        'Final': impute_train['Final']}\n",
    "\n",
    "dfn = pd.DataFrame(data)\n",
    "# Calculate percentages\n",
    "year_counts = dfn.groupby(['Year', 'Final']).size().unstack(fill_value=0)\n",
    "year_percentages = year_counts.div(year_counts.sum(axis=1), axis=0) * 100\n",
    "\n",
    "# Plotting\n",
    "plt.figure(figsize=(10, 6))\n",
    "bars = year_percentages.plot(kind='bar', stacked=True)\n",
    "plt.xlabel('Year')\n",
    "plt.ylabel('Percentage')\n",
    "plt.title('Stacked Bar Plot of Final Categories by Year')\n",
    "plt.legend(title='Final', labels=['Confirmed', 'Not Detected'], loc='upper right')\n",
    "plt.xticks(rotation=45)\n",
    "plt.tight_layout()\n",
    "\n",
    "# Add percentage annotations\n",
    "for bar in bars.patches:\n",
    "    x = bar.get_x() + bar.get_width() / 2\n",
    "    y = bar.get_y() + bar.get_height() / 2\n",
    "    percentage = f\"{bar.get_height():.1f}%\"\n",
    "    plt.annotate(percentage, (x, y), ha='center', va='center', color='white', fontsize=10)\n",
    "\n",
    "plt.show()"
   ]
  },
  {
   "cell_type": "markdown",
   "id": "ac200f04-0af0-4d71-8ae2-78ae2f06af15",
   "metadata": {},
   "source": [
    "When examining the relationship between the year and final detection status, it's notable that in 2016, 79.8% of patients were not diagnosed with Leptospirosis. The highest percentage of patients suffering from Leptospirosis occurred in 2018, accounting for 40.7% of cases. Furthermore, in 2019, 89.3% of patients were not detected with the disease. Based on this analysis, we can infer that the number of Leptospirosis cases is likely to decrease in 2019."
   ]
  },
  {
   "cell_type": "code",
   "execution_count": 41,
   "id": "49f085a6-6cc9-47d2-b4fc-40f414f05e60",
   "metadata": {},
   "outputs": [
    {
     "name": "stderr",
     "output_type": "stream",
     "text": [
      "C:\\Users\\nipun\\AppData\\Local\\Temp\\ipykernel_12000\\3358948564.py:3: PerformanceWarning: DataFrame is highly fragmented.  This is usually the result of calling `frame.insert` many times, which has poor performance.  Consider joining all columns at once using pd.concat(axis=1) instead. To get a de-fragmented frame, use `newframe = frame.copy()`\n",
      "  impute_train['Isolate_label'] = impute_train['Isolate'].replace({1: 'Isolated', 2: 'No growth', 98: 'No samples'})\n"
     ]
    },
    {
     "data": {
      "image/png": "[encoded data removed]",
      "text/plain": [
       "<Figure size 500x400 with 1 Axes>"
      ]
     },
     "metadata": {},
     "output_type": "display_data"
    }
   ],
   "source": [
    "# Isolate\n",
    "\n",
    "impute_train['Isolate_label'] = impute_train['Isolate'].replace({1: 'Isolated', 2: 'No growth', 98: 'No samples'})\n",
    "\n",
    "plt.figure(figsize=(5, 4))\n",
    "impute_train['Isolate_label'].value_counts().plot(kind='bar')\n",
    "plt.title('Frequency of Isolate Categories')\n",
    "plt.xlabel('Isolate')\n",
    "plt.ylabel('Frequency')\n",
    "plt.xticks(rotation=45)\n",
    "plt.tight_layout()\n",
    "plt.show()"
   ]
  },
  {
   "cell_type": "markdown",
   "id": "b39158e8-3721-42f7-978e-376253ea74fc",
   "metadata": {},
   "source": [
    "This graph displays how often different types of bacterial isolates appear based on the number of samples in each category. Leptospirosis, caused by Leptospira bacteria, spreads through contact with infected animals' urine or bodily fluids. The majority of patients fall into the \"No growth\" category, meaning no bacteria grew in their samples. \"No samples\" suggests either data absence or unshown results. \"Isolated\" refers to samples with bacterial growth."
   ]
  },
  {
   "cell_type": "code",
   "execution_count": 42,
   "id": "295d4eb7-721a-4dd8-a4e1-3cabce4bddc2",
   "metadata": {},
   "outputs": [
    {
     "name": "stderr",
     "output_type": "stream",
     "text": [
      "C:\\Users\\nipun\\AppData\\Local\\Temp\\ipykernel_12000\\3205565118.py:5: FutureWarning: The default of observed=False is deprecated and will be changed to True in a future version of pandas. Pass observed=False to retain current behavior or observed=True to adopt the future default and silence this warning.\n",
      "  final_counts = impute_train.groupby(['Isolate_label', 'Final_label']).size().unstack(fill_value=0)\n"
     ]
    },
    {
     "data": {
      "image/png": "[encoded data removed]",
      "text/plain": [
       "<Figure size 500x400 with 1 Axes>"
      ]
     },
     "metadata": {},
     "output_type": "display_data"
    }
   ],
   "source": [
    "# Isolate vs Final \n",
    "\n",
    "impute_train['Final_label'] = impute_train['Final'].replace({1: 'Confirmed', 2: 'Not detected'})\n",
    "\n",
    "final_counts = impute_train.groupby(['Isolate_label', 'Final_label']).size().unstack(fill_value=0)\n",
    "final_percentages = final_counts.div(final_counts.sum(axis=1), axis=0) * 100\n",
    "\n",
    "bars = final_percentages.plot(kind='bar', stacked=True, figsize=(5, 4), color=['skyblue', 'orange'])\n",
    "plt.title('Percentage of Final Outcomes by Isolate Category')\n",
    "plt.xlabel('Isolate')\n",
    "plt.ylabel('Percentage')\n",
    "plt.legend(title='Final', loc='upper right')\n",
    "plt.xticks(rotation=45)\n",
    "plt.tight_layout()\n",
    "\n",
    "for bar in bars.patches:\n",
    "    x = bar.get_x() + bar.get_width() / 2\n",
    "    y = bar.get_y() + bar.get_height() / 2\n",
    "    percentage = f\"{bar.get_height():.1f}%\"\n",
    "    plt.annotate(percentage, (x, y), ha='center', va='center', color='white', fontsize=10)\n",
    "\n",
    "plt.show()"
   ]
  },
  {
   "cell_type": "markdown",
   "id": "037d32a7-e95a-40ec-b583-aeace3a60deb",
   "metadata": {},
   "source": [
    "This graph shows Isolate vs Final result. Looking at this, we can understand that all the patients in the isolate category have confirmed the final diagnosis. But 36.2% of those with \"no growth\" have had their final diagnosis confirmed."
   ]
  },
  {
   "cell_type": "code",
   "execution_count": 43,
   "id": "5ca1f23a-6a3a-4b1c-b6c7-80e085ba4570",
   "metadata": {},
   "outputs": [
    {
     "data": {
      "image/png": "[encoded data removed]",
      "text/plain": [
       "<Figure size 800x600 with 1 Axes>"
      ]
     },
     "metadata": {},
     "output_type": "display_data"
    }
   ],
   "source": [
    "# ICU\n",
    "icu_counts = impute_train['ICU'].value_counts()\n",
    "labels = icu_counts.index.map({1: 'No', 2: 'Yes'})\n",
    "\n",
    "# Plot the pie chart\n",
    "plt.figure(figsize=(8, 6))\n",
    "plt.pie(icu_counts, labels=labels, autopct='%1.1f%%', startangle=140, colors=['skyblue', 'darkblue'])\n",
    "plt.title('Distribution of ICU Admissions')\n",
    "plt.axis('equal') \n",
    "plt.show()"
   ]
  },
  {
   "cell_type": "markdown",
   "id": "c8d53f27-1202-4586-b2c2-f32bccc1e021",
   "metadata": {},
   "source": [
    "By looking at this pie chart we can say that 97% patients are in the ICU."
   ]
  },
  {
   "cell_type": "code",
   "execution_count": 44,
   "id": "809b5ffe-ae63-4fa7-95eb-16c9f85c998e",
   "metadata": {},
   "outputs": [
    {
     "data": {
      "image/png": "[encoded data removed]",
      "text/plain": [
       "<Figure size 800x600 with 1 Axes>"
      ]
     },
     "metadata": {},
     "output_type": "display_data"
    }
   ],
   "source": [
    "# Sex\n",
    "\n",
    "sex_counts = impute_train['Sex'].value_counts()\n",
    "\n",
    "labels = sex_counts.index.map({1: 'Male', 2: 'Female'})\n",
    "\n",
    "# Plot the pie chart\n",
    "plt.figure(figsize=(8, 6))\n",
    "plt.pie(sex_counts, labels=labels, autopct='%1.1f%%', startangle=140, colors=['#66b3ff', 'Pink'])\n",
    "plt.title('Distribution of Sex')\n",
    "plt.axis('equal')  \n",
    "plt.show()"
   ]
  },
  {
   "cell_type": "markdown",
   "id": "3bc43348-aaa5-4f47-957f-624721c0823c",
   "metadata": {},
   "source": [
    "By looking at this plot we can observed that, Leptospirosis mostly affects males."
   ]
  },
  {
   "cell_type": "code",
   "execution_count": 45,
   "id": "425e539e-552b-409b-948c-63e3ac5ff516",
   "metadata": {},
   "outputs": [
    {
     "data": {
      "image/png": "[encoded data removed]",
      "text/plain": [
       "<Figure size 600x400 with 1 Axes>"
      ]
     },
     "metadata": {},
     "output_type": "display_data"
    }
   ],
   "source": [
    "#AST\n",
    "\n",
    "plt.figure(figsize=(6, 4))\n",
    "plt.hist(impute_train['AST'], bins=10, color='skyblue', edgecolor='black')\n",
    "\n",
    "plt.title('Histogram of AST Variable')\n",
    "plt.xlabel('AST Values')\n",
    "plt.ylabel('Frequency')\n",
    "plt.grid(axis='y', linestyle='--', alpha=0.7)\n",
    "plt.tight_layout()\n",
    "\n",
    "plt.show()"
   ]
  },
  {
   "cell_type": "markdown",
   "id": "3b0a5211-36ff-4c25-aaf8-8b697e857f11",
   "metadata": {},
   "source": [
    "AST, which stands for Aspartate Aminotransferase, is an enzyme found in various parts of the body including the liver. It’s often measured as part of a liver function test. In the context of Leptospirosis, while AST itself is not used to diagnose the disease, it may be elevated if there is liver involvement due to Leptospirosis infection. The x-axis of the graph shows the AST values, ranging from 0 to 60. The y-axis shows the frequency. The high frequency of values around 20-30 on the AST value axis suggests that many samples fall within this range."
   ]
  },
  {
   "cell_type": "code",
   "execution_count": 46,
   "id": "49d1c882-d1bf-415d-ac2a-fb94032ec761",
   "metadata": {},
   "outputs": [
    {
     "data": {
      "image/png": "[encoded data removed]",
      "text/plain": [
       "<Figure size 600x400 with 1 Axes>"
      ]
     },
     "metadata": {},
     "output_type": "display_data"
    }
   ],
   "source": [
    "# ALT\n",
    "\n",
    "plt.figure(figsize=(6, 4))\n",
    "plt.hist(impute_train['ALT'], bins=10, color='skyblue', edgecolor='black')\n",
    "\n",
    "plt.title('Histogram of ALT Variable')\n",
    "plt.xlabel('ALT Values')\n",
    "plt.ylabel('Frequency')\n",
    "plt.grid(axis='y', linestyle='--', alpha=0.7)\n",
    "plt.tight_layout()\n",
    "\n",
    "plt.show()"
   ]
  },
  {
   "cell_type": "code",
   "execution_count": 47,
   "id": "36932405-e695-4ec9-a391-4afca505c789",
   "metadata": {},
   "outputs": [
    {
     "data": {
      "image/png": "[encoded data removed]",
      "text/plain": [
       "<Figure size 600x400 with 1 Axes>"
      ]
     },
     "metadata": {},
     "output_type": "display_data"
    }
   ],
   "source": [
    "# Age\n",
    "\n",
    "plt.figure(figsize=(6, 4))\n",
    "plt.hist(impute_train['Age'], bins=10, color='red', edgecolor='black')\n",
    "\n",
    "plt.title('Histogram of Age Variable')\n",
    "plt.xlabel('Age')\n",
    "plt.ylabel('Frequency')\n",
    "plt.grid(axis='y', linestyle='--', alpha=0.7)\n",
    "plt.tight_layout()\n",
    "\n",
    "plt.show()"
   ]
  },
  {
   "cell_type": "code",
   "execution_count": 48,
   "id": "7628b2b2-93ba-4ffd-87b6-923bdda78a7f",
   "metadata": {},
   "outputs": [
    {
     "data": {
      "text/plain": [
       "<Figure size 800x600 with 0 Axes>"
      ]
     },
     "metadata": {},
     "output_type": "display_data"
    },
    {
     "data": {
      "image/png": "[encoded data removed]",
      "text/plain": [
       "<Figure size 640x480 with 1 Axes>"
      ]
     },
     "metadata": {},
     "output_type": "display_data"
    }
   ],
   "source": [
    "# Age vs Final\n",
    "\n",
    "plt.figure(figsize=(8, 6))\n",
    "boxplot = impute_train.boxplot(column='Age', by='Final', grid=False)\n",
    "\n",
    "plt.title('Box Plot of Age vs Final')\n",
    "plt.xlabel('Final Outcome')\n",
    "plt.ylabel('Age')\n",
    "plt.suptitle('')  \n",
    "plt.xticks([1, 2], ['Confirmed', 'Not detected']) \n",
    "\n",
    "plt.show()"
   ]
  },
  {
   "cell_type": "markdown",
   "id": "ad762658-f207-4f17-9b28-935ded9558fd",
   "metadata": {},
   "source": [
    "By looking at this histogram we can say that most of the patients are coming from 40. In this case by looking at boxplot we can observed that there are outliers on both the younger and older ends of the age distribution. However, we can see that the median age for both the confirmed and not detected outcomes is around 40 years old. There is also a wider range of ages in the not detected group compared to the confirmed group."
   ]
  },
  {
   "cell_type": "code",
   "execution_count": 49,
   "id": "b4a4c091-fd90-4fb6-a2f8-a55e06cdb7fc",
   "metadata": {},
   "outputs": [
    {
     "data": {
      "image/png": "[encoded data removed]",
      "text/plain": [
       "<Figure size 600x400 with 1 Axes>"
      ]
     },
     "metadata": {},
     "output_type": "display_data"
    }
   ],
   "source": [
    "# Lcount\n",
    "\n",
    "plt.figure(figsize=(6, 4))\n",
    "plt.hist(impute_train['Lcount'], bins=10, color='blue', edgecolor='black')\n",
    "\n",
    "plt.title('Histogram of Lcount Variable')\n",
    "plt.xlabel('Lcount')\n",
    "plt.ylabel('Frequency')\n",
    "plt.grid(axis='y', linestyle='--', alpha=0.7)\n",
    "plt.tight_layout()\n",
    "\n",
    "plt.show()\n"
   ]
  },
  {
   "cell_type": "code",
   "execution_count": 50,
   "id": "fce330a8-00f3-4f7f-85cc-312da7f03130",
   "metadata": {},
   "outputs": [
    {
     "data": {
      "text/plain": [
       "<Figure size 800x600 with 0 Axes>"
      ]
     },
     "metadata": {},
     "output_type": "display_data"
    },
    {
     "data": {
      "image/png": "[encoded data removed]",
      "text/plain": [
       "<Figure size 640x480 with 1 Axes>"
      ]
     },
     "metadata": {},
     "output_type": "display_data"
    }
   ],
   "source": [
    "# Lcount vs Final\n",
    "\n",
    "plt.figure(figsize=(8, 6))\n",
    "boxplot = impute_train.boxplot(column='Lcount', by='Final', grid=False)\n",
    "\n",
    "plt.title('Box Plot of Lcount vs Final')\n",
    "plt.xlabel('Final Outcome')\n",
    "plt.ylabel('Lcount')\n",
    "plt.suptitle('')  \n",
    "plt.xticks([1, 2], ['Confirmed', 'Not detected']) \n",
    "\n",
    "plt.show()"
   ]
  },
  {
   "cell_type": "markdown",
   "id": "7bd2c0e7-0fd7-4887-8276-90916c0f1a8e",
   "metadata": {},
   "source": [
    "# Part b)"
   ]
  },
  {
   "cell_type": "markdown",
   "id": "50a2aecd-de3e-44e2-a87e-aa8e944431fa",
   "metadata": {},
   "source": [
    "Fit a suitable predictive model to predict the leptospirosis status of the patient \n",
    "using the train dataset. [You may use transformations, etc. techniques to improve \n",
    "the model]"
   ]
  },
  {
   "cell_type": "code",
   "execution_count": 51,
   "id": "211bf49a-78b8-4354-9ce3-297ef110568e",
   "metadata": {},
   "outputs": [],
   "source": [
    "impute_train=impute_train.drop(\"Final_label\",axis=1)\n",
    "impute_train=impute_train.drop(\"Hospital_label\",axis=1)\n",
    "impute_train=impute_train.drop(\"Isolate_label\",axis=1)\n",
    "#impute_train=impute_train.drop(\"icu_counts\",axis=1)\n",
    "#impute_train=impute_train.drop(\"sex_counts\",axis=1)"
   ]
  },
  {
   "cell_type": "markdown",
   "id": "151e5cdf-90b6-4598-ac71-605325acde89",
   "metadata": {},
   "source": [
    "## Models"
   ]
  },
  {
   "cell_type": "code",
   "execution_count": 52,
   "id": "d47a08d4-ac0f-49be-8976-b3f72793736d",
   "metadata": {},
   "outputs": [],
   "source": [
    "from sklearn.linear_model import LogisticRegression\n",
    "from sklearn.preprocessing import OneHotEncoder, StandardScaler\n",
    "from sklearn.compose import ColumnTransformer\n",
    "from sklearn.pipeline import Pipeline\n",
    "\n",
    "X = impute_train.drop('Final', axis = 1)\n",
    "y = impute_train['Final']\n",
    "\n",
    "categorical_cols = X.select_dtypes(include='category').columns.tolist()\n",
    "numeric_cols = X.select_dtypes(include=['Int64', 'float64']).columns.tolist()\n",
    "\n",
    "preprocessor = ColumnTransformer(\n",
    "    transformers=[\n",
    "        ('cat', OneHotEncoder(handle_unknown='ignore'), categorical_cols),\n",
    "        ('num', StandardScaler(), numeric_cols)\n",
    "    ])"
   ]
  },
  {
   "cell_type": "markdown",
   "id": "87378b79-7ef7-490a-b25b-a87e753bff59",
   "metadata": {},
   "source": [
    "### Logistic Regression model"
   ]
  },
  {
   "cell_type": "code",
   "execution_count": 53,
   "id": "67b4244d-b6ad-48dc-996d-84b8924058b8",
   "metadata": {},
   "outputs": [],
   "source": [
    "# Logistic regression model\n",
    "logistic_model = Pipeline(steps=[\n",
    "    ('preprocessor', preprocessor),\n",
    "    ('classifier', LogisticRegression(max_iter=1000))\n",
    "])"
   ]
  },
  {
   "cell_type": "code",
   "execution_count": 54,
   "id": "26ff73a8-ce47-456c-a4ee-52c668ececaf",
   "metadata": {},
   "outputs": [
    {
     "name": "stdout",
     "output_type": "stream",
     "text": [
      "Accuracy1: 0.9408795962509012\n"
     ]
    }
   ],
   "source": [
    "from sklearn.preprocessing import LabelEncoder\n",
    "\n",
    "label_encoder = LabelEncoder()\n",
    "y_encoded = label_encoder.fit_transform(y)\n",
    "\n",
    "# Fit the model\n",
    "logistic_model.fit(X, y_encoded)\n",
    "\n",
    "# Evaluate the model\n",
    "accuracy = logistic_model.score(X, y_encoded)\n",
    "print(\"Accuracy1:\", accuracy)"
   ]
  },
  {
   "cell_type": "markdown",
   "id": "b45afd0c-c4a4-4266-b976-ce4a3fe69158",
   "metadata": {},
   "source": [
    "### SMOTE"
   ]
  },
  {
   "cell_type": "code",
   "execution_count": 55,
   "id": "1222f408-08ee-4ddf-90db-4316d4179417",
   "metadata": {},
   "outputs": [],
   "source": [
    "# Logistic regression model\n",
    "logistic_model_smote = Pipeline(steps=[\n",
    "    ('preprocessor', preprocessor),\n",
    "    ('classifier', LogisticRegression(max_iter=1000))\n",
    "])"
   ]
  },
  {
   "cell_type": "code",
   "execution_count": 56,
   "id": "da004527-da7d-4fd1-9def-60b292112ded",
   "metadata": {},
   "outputs": [
    {
     "name": "stdout",
     "output_type": "stream",
     "text": [
      "Accuracy2: 0.9552801724137931\n"
     ]
    }
   ],
   "source": [
    "from imblearn.over_sampling import SMOTE\n",
    "smote= SMOTE()\n",
    "\n",
    "X_resampled2, y_resampled2 =smote.fit_resample(X, y)\n",
    "\n",
    "from sklearn.preprocessing import LabelEncoder\n",
    "\n",
    "label_encoder = LabelEncoder()\n",
    "y_encoded2 = label_encoder.fit_transform(y_resampled2)\n",
    "\n",
    "# Fit the model\n",
    "logistic_model_smote.fit(X_resampled2, y_encoded2)\n",
    "\n",
    "# Evaluate the model\n",
    "accuracy = logistic_model_smote.score(X_resampled2, y_encoded2)\n",
    "print(\"Accuracy2:\", accuracy)"
   ]
  },
  {
   "cell_type": "markdown",
   "id": "bd500959-2323-457b-8cae-9e50bffe85dc",
   "metadata": {},
   "source": [
    "### ADASYN"
   ]
  },
  {
   "cell_type": "code",
   "execution_count": 57,
   "id": "8257e2db-bdcc-4668-aa75-d55058a776e7",
   "metadata": {},
   "outputs": [],
   "source": [
    "# Logistic regression model\n",
    "logistic_model_adasyn = Pipeline(steps=[\n",
    "    ('preprocessor', preprocessor),\n",
    "    ('classifier', LogisticRegression(max_iter=1000))\n",
    "])\n"
   ]
  },
  {
   "cell_type": "code",
   "execution_count": 58,
   "id": "0c0b7a7d-da87-4da2-afc8-48d68fe22708",
   "metadata": {},
   "outputs": [],
   "source": [
    "from imblearn.over_sampling import ADASYN\n",
    "from collections import Counter"
   ]
  },
  {
   "cell_type": "code",
   "execution_count": 59,
   "id": "9c566f72-2633-4d80-87e2-f6a1e3ace95a",
   "metadata": {},
   "outputs": [],
   "source": [
    "ada = ADASYN(sampling_strategy='minority',random_state=42,n_neighbors=7)"
   ]
  },
  {
   "cell_type": "code",
   "execution_count": 60,
   "id": "38aee367-8343-40d3-a944-9b1944ce458b",
   "metadata": {},
   "outputs": [],
   "source": [
    "X_resampled3, y_resampled3 =ada.fit_resample(X, y)"
   ]
  },
  {
   "cell_type": "code",
   "execution_count": 61,
   "id": "81d352e0-c430-4888-8a2d-d7df0707c5f2",
   "metadata": {},
   "outputs": [],
   "source": [
    "from sklearn.preprocessing import LabelEncoder\n",
    "\n",
    "label_encoder = LabelEncoder()\n",
    "y_encoded3 = label_encoder.fit_transform(y_resampled3)\n"
   ]
  },
  {
   "cell_type": "code",
   "execution_count": 62,
   "id": "71fbe407-ad7e-4d58-9421-61d16cea8697",
   "metadata": {},
   "outputs": [
    {
     "name": "stdout",
     "output_type": "stream",
     "text": [
      "Accuracy3: 0.9552733296521259\n"
     ]
    }
   ],
   "source": [
    "# Fit the model\n",
    "logistic_model_adasyn.fit(X_resampled3, y_encoded3)\n",
    "\n",
    "# Evaluate the model\n",
    "accuracy = logistic_model_adasyn.score(X_resampled3, y_encoded3)\n",
    "print(\"Accuracy3:\", accuracy)"
   ]
  },
  {
   "cell_type": "markdown",
   "id": "a0ee3e38-c7bf-42a6-92af-8a51d2dabbba",
   "metadata": {},
   "source": [
    "Accuracy is high when SMOTE sampling method was applied."
   ]
  },
  {
   "cell_type": "markdown",
   "id": "c76216be-2cd0-4c43-ae15-e3bf4e439aee",
   "metadata": {},
   "source": [
    "# Part c)"
   ]
  },
  {
   "cell_type": "markdown",
   "id": "ae338880-3c63-4ed8-bfb2-0cefb79491be",
   "metadata": {},
   "source": [
    "## Process test dataset"
   ]
  },
  {
   "cell_type": "code",
   "execution_count": 63,
   "id": "45869a03-f8b2-4bf3-a33f-868e12537dc2",
   "metadata": {},
   "outputs": [],
   "source": [
    "test_df = pd.read_csv(\"E:\\\\4th Year\\\\1st Semester\\\\ST 4035 - Data Science\\\\Assignments\\\\Assignment 01\\\\test.csv\")"
   ]
  },
  {
   "cell_type": "code",
   "execution_count": 64,
   "id": "2988b28d-49ff-4e07-92db-4e464e6a8eb1",
   "metadata": {},
   "outputs": [],
   "source": [
    "test=test_df.copy()"
   ]
  },
  {
   "cell_type": "code",
   "execution_count": 65,
   "id": "76b0be3d-20d7-4855-a3ee-91cf1a811888",
   "metadata": {},
   "outputs": [
    {
     "data": {
      "text/plain": [
       "(347, 805)"
      ]
     },
     "execution_count": 65,
     "metadata": {},
     "output_type": "execute_result"
    }
   ],
   "source": [
    "test.shape"
   ]
  },
  {
   "cell_type": "code",
   "execution_count": 66,
   "id": "31d96019-8d97-44b9-bc72-c19078cebf0f",
   "metadata": {},
   "outputs": [],
   "source": [
    "test=test.drop(\"ID\",axis=1)"
   ]
  },
  {
   "cell_type": "code",
   "execution_count": 67,
   "id": "84d1e020-1eb1-4cb5-89a1-3bc9e7a30b29",
   "metadata": {},
   "outputs": [],
   "source": [
    "test.replace([\"99\",99],np.nan,inplace=True)"
   ]
  },
  {
   "cell_type": "code",
   "execution_count": 68,
   "id": "5fb97a0c-cf7f-40b8-9fc3-acab1130bdf2",
   "metadata": {},
   "outputs": [],
   "source": [
    "col_names = {'Muscletendernessonset': 'Mustenderonset', 'Muscletendernessad':'Mustenderad', 'Vomitingadmission':'Vomitingad','Cnsuffusionad':'Consufad','Cnsuffusiononset':'Consufonset', \n",
    "             'Mucosalrashonset':'Mucorashonset','Mucosalrashad':'Mucorashad', 'Diarrhoeaonset':'diarrheaonset','Diarrhoeaad':'diarrheaad', 'OliguriaAd':'Oliguriaad', 'Haemoptasisonset':'Haemoptysisonset','Haemoptasisad':'Haemoptysisad', \"SOBadd\": 'SOBad' }\n",
    "test.rename(columns = col_names, inplace=True)"
   ]
  },
  {
   "cell_type": "code",
   "execution_count": 69,
   "id": "4f197690-e18a-4aef-bc5e-e53729b523c5",
   "metadata": {},
   "outputs": [],
   "source": [
    "# combine some symtoms binary columns as counts\n",
    "\n",
    "col_names1 = ['Headache', 'Fever', 'Chills', 'Rigors', 'Musclepain', 'Mustender', 'Nausea', 'Vomiting', \n",
    "              'Consuf', 'Skinrash', 'Mucorash', 'Prostration', 'diarrhea', 'Oliguria', 'Anuria', 'Jaundice',\n",
    "              'Photophobia', 'Confusion', 'Cough', 'Haemoptysis', 'SOB', 'Chestpain', 'Bleeding']\n",
    "\n",
    "for col in col_names1:\n",
    "    symptom_columns = [f'{col}{i}' for i in ['onset', '2', '3', '4', '5', '6', '7', '8', '9', '10', 'ad']]\n",
    "    df1 = test[symptom_columns].replace(99, np.nan)\n",
    "    \n",
    "    test[col + 'Days'] = df1.apply(lambda row: row.eq(1).sum() if row.notna().any() else np.nan, axis=1)\n",
    "    test.drop(symptom_columns, axis=1, inplace=True)"
   ]
  },
  {
   "cell_type": "code",
   "execution_count": 70,
   "id": "d746dacf-de5c-4294-bb96-0bb1a72eb46d",
   "metadata": {},
   "outputs": [],
   "source": [
    "#combine Psychoticsymptoms binary columns as counts\n",
    "\n",
    "col_names2 = {'Hepatictendernessad':'hepatictenderad', 'Hepatomegalyad':'hepatomegalyad', 'Spleenimegalyad':'Spleenomegalyad', 'Lympadenopathyad':'Lymphadenopathyad'}\n",
    "test.rename(columns=col_names2, inplace=True)\n",
    "\n",
    "# List of column prefixes for Psychotic symptoms\n",
    "colnames = ['hepatictender', 'hepatomegaly', 'Spleenomegaly', 'Lymphadenopathy', 'Neckstiffness']\n",
    "\n",
    "for col in colnames:\n",
    "    # Select relevant columns\n",
    "    symptom_columns = [f'{col}{i}' for i in ['2', '3', '4', '5', '6', '7', '8', '9', '10', 'ad']]\n",
    "    df2 = test[symptom_columns].replace(99, np.nan)\n",
    "    \n",
    "    # Calculate the number of days the symptom was present\n",
    "    test[col + 'Days'] = df2.apply(lambda row: row.eq(1).sum() if row.notna().any() else np.nan, axis=1)\n",
    "    \n",
    "    # Drop the original symptom columns\n",
    "    test.drop(symptom_columns, axis=1, inplace=True)"
   ]
  },
  {
   "cell_type": "code",
   "execution_count": 71,
   "id": "11f3b582-a24a-4849-b79b-41fb32ecc96a",
   "metadata": {},
   "outputs": [],
   "source": [
    "# combine water area column\n",
    "\n",
    "# Define the columns related to water areas\n",
    "cols = ['HomeStreamrivercanaloranyotherrunningwatersource', \n",
    "        'WorkplaceStreamrivercanaloranyotherrunningwatersource',\n",
    "        'Homepondlaketankoranyotherstagnantwatersource',\n",
    "        'WorkPlacepondlaketankoranyotherstagnantwatersource']\n",
    "\n",
    "# Function to determine the water area status\n",
    "def water_area(row):\n",
    "    if row.isnull().all():\n",
    "        return pd.NA\n",
    "    elif (row == 1).any():\n",
    "        return 1\n",
    "    else:\n",
    "        return 2\n",
    "\n",
    "# Apply the function to each row\n",
    "test['WaterArea'] = test[cols].apply(water_area, axis=1)\n",
    "\n",
    "# Drop the original columns\n",
    "test.drop(cols, axis=1, inplace=True)"
   ]
  },
  {
   "cell_type": "code",
   "execution_count": 72,
   "id": "52f231e6-abbd-43ca-959e-c0599bafac1f",
   "metadata": {},
   "outputs": [
    {
     "data": {
      "text/plain": [
       "(347, 526)"
      ]
     },
     "execution_count": 72,
     "metadata": {},
     "output_type": "execute_result"
    }
   ],
   "source": [
    "test.shape"
   ]
  },
  {
   "cell_type": "code",
   "execution_count": 73,
   "id": "62551459-767e-42ce-95dd-8ad9a2094789",
   "metadata": {},
   "outputs": [],
   "source": [
    "# Drop columns with more than 80% missing values\n",
    "test.drop(columns_to_drop, axis=1, inplace=True)"
   ]
  },
  {
   "cell_type": "code",
   "execution_count": 74,
   "id": "4891a18d-76ad-4f5f-8fed-2cd9ff1e3e35",
   "metadata": {},
   "outputs": [],
   "source": [
    "# Drop Columns with all null values\n",
    "test = test.dropna(axis=1,how=\"all\")"
   ]
  },
  {
   "cell_type": "code",
   "execution_count": 75,
   "id": "7f42f435-cbc4-4569-8d21-fb4536bc0ee7",
   "metadata": {},
   "outputs": [],
   "source": [
    "# Drop columns with more than 50% missing values (99)\n",
    "test.drop(columns_to_drop_2, axis=1,inplace=True)"
   ]
  },
  {
   "cell_type": "code",
   "execution_count": 76,
   "id": "ddef0185-b36e-429e-a86d-3c011a69958d",
   "metadata": {},
   "outputs": [],
   "source": [
    "cat_columns_to_convert = ['Year','Month','Hospital','Sample','ICU','OPD','Sex',\n",
    "                          'Ethnicity','Education','TertiaryEducation','Prophylactics',\n",
    "                          'Pasttreatments','Pastantibiotics','Chronicillness',\n",
    "                          'Possibleexposure','Psychoticsymptomsonset','Psychoticsymptomsad',\n",
    "                          'WPqPCRDiagnosis','Isolate','MAT_set_1']\n",
    "\n",
    "test[cat_columns_to_convert] = test[cat_columns_to_convert].astype('category')"
   ]
  },
  {
   "cell_type": "code",
   "execution_count": 77,
   "id": "2c04d3af-7556-4d16-b912-1037808a2162",
   "metadata": {},
   "outputs": [
    {
     "data": {
      "text/plain": [
       "Year                     0\n",
       "Month                    0\n",
       "Hospital                 0\n",
       "Sample                   0\n",
       "ICU                     19\n",
       "                      ... \n",
       "hepatomegalyDays        88\n",
       "SpleenomegalyDays       89\n",
       "LymphadenopathyDays     89\n",
       "NeckstiffnessDays       85\n",
       "WaterArea              260\n",
       "Length: 192, dtype: int64"
      ]
     },
     "execution_count": 77,
     "metadata": {},
     "output_type": "execute_result"
    }
   ],
   "source": [
    "test.isna().sum()"
   ]
  },
  {
   "cell_type": "code",
   "execution_count": 78,
   "id": "8db467fb-9705-4258-b58d-98301631d7d7",
   "metadata": {},
   "outputs": [
    {
     "name": "stdout",
     "output_type": "stream",
     "text": [
      "<class 'pandas.core.frame.DataFrame'>\n",
      "RangeIndex: 347 entries, 0 to 346\n",
      "Data columns (total 192 columns):\n",
      " #    Column                                               Dtype   \n",
      "---   ------                                               -----   \n",
      " 0    Year                                                 category\n",
      " 1    Month                                                category\n",
      " 2    Hospital                                             category\n",
      " 3    Sample                                               category\n",
      " 4    ICU                                                  category\n",
      " 5    OPD                                                  category\n",
      " 6    Sex                                                  category\n",
      " 7    Age                                                  float64 \n",
      " 8    Ethnicity                                            category\n",
      " 9    Income                                               float64 \n",
      " 10   Education                                            category\n",
      " 11   TertiaryEducation                                    category\n",
      " 12   Prophylactics                                        category\n",
      " 13   Pasttreatments                                       category\n",
      " 14   Pastantibiotics                                      category\n",
      " 15   Chronicillness                                       category\n",
      " 16   Possibleexposure                                     category\n",
      " 17   Usualdrinkingwatersource                             float64 \n",
      " 18   Usualbathingwatersource                              float64 \n",
      " 19   Sourceofwaterforhousehold                            float64 \n",
      " 20   Garbagedisposalprocedure                             float64 \n",
      " 21   Accumilationofrefusal                                float64 \n",
      " 22   Availabilityofpublicgarbagecollectionprocedure       float64 \n",
      " 23   Homemarshywetland                                    float64 \n",
      " 24   Workplacemarshywet                                   float64 \n",
      " 25   HomeBushes                                           float64 \n",
      " 26   Workplacebushes                                      float64 \n",
      " 27   Homeforest                                           float64 \n",
      " 28   Workplaceforest                                      float64 \n",
      " 29   Homeworkingpaddyfield                                float64 \n",
      " 30   WorkPlaceworkingpaddyfield                           float64 \n",
      " 31   Homeabondantpaddyfield                               float64 \n",
      " 32   Workplaceabondantpaddyfield                          float64 \n",
      " 33   Homeotheragricultural                                float64 \n",
      " 34   workplaceotheragricultural                           float64 \n",
      " 35   Homeanimalfarm                                       float64 \n",
      " 36   Workplaceanimalfarm                                  float64 \n",
      " 37   Homegarbageaccumilation                              float64 \n",
      " 38   Workplacegarbageaccumilation                         float64 \n",
      " 39   Homeblockeddrainage                                  float64 \n",
      " 40   Workplaceblockeddrainage                             float64 \n",
      " 41   Homesewer                                            float64 \n",
      " 42   Workplacesewer                                       float64 \n",
      " 43   Rathome                                              float64 \n",
      " 44   RatWorkplace                                         float64 \n",
      " 45   RatNeighbourhood                                     float64 \n",
      " 46   Cathome                                              float64 \n",
      " 47   Catworkplace                                         float64 \n",
      " 48   CatNeighbourhood                                     float64 \n",
      " 49   Doghome                                              float64 \n",
      " 50   DogWorkplace                                         float64 \n",
      " 51   DogNeighbourhood                                     float64 \n",
      " 52   Cattlehome                                           float64 \n",
      " 53   CattleWorkplace                                      float64 \n",
      " 54   CattleNeighbourhood                                  float64 \n",
      " 55   PigHome                                              float64 \n",
      " 56   PigWorkplace                                         float64 \n",
      " 57   PigNeighbourhood                                     float64 \n",
      " 58   GoatHome                                             float64 \n",
      " 59   GoatWorkplace                                        float64 \n",
      " 60   GoatNeighbourhood                                    float64 \n",
      " 61   Urumeeyahome                                         float64 \n",
      " 62   Urumeeyaworkplace                                    float64 \n",
      " 63   UrimeeyaNeighbourhood                                float64 \n",
      " 64   OtherrhodentsHome                                    float64 \n",
      " 65   Marshlandexposure                                    float64 \n",
      " 66   Wetsoilexposure                                      float64 \n",
      " 67   Floodexposure                                        float64 \n",
      " 68   Forestexposure                                       float64 \n",
      " 69   BushesExposure                                       float64 \n",
      " 70   Otheragriexposure                                    float64 \n",
      " 71   Gardeningexposure                                    float64 \n",
      " 72   Otheroutdoorworkexposure                             float64 \n",
      " 73   Naturalrunningwaterexposure                          float64 \n",
      " 74   Stagnantwaterexposure                                float64 \n",
      " 75   Manmaderunningwaterexposure                          float64 \n",
      " 76   Drainsexposure                                       float64 \n",
      " 77   Otherwaterexposure                                   float64 \n",
      " 78   Paddyfieldexposure                                   float64 \n",
      " 79   Walkingbarefootoutdoor                               float64 \n",
      " 80   CattleHandle                                         float64 \n",
      " 81   BuffaloHandle                                        float64 \n",
      " 82   Goathandle                                           float64 \n",
      " 83   Pighandle                                            float64 \n",
      " 84   Cathandle                                            float64 \n",
      " 85   Doghandle                                            float64 \n",
      " 86   Psychoticsymptomsonset                               category\n",
      " 87   Psychoticsymptomsad                                  category\n",
      " 88   PRad                                                 float64 \n",
      " 89   SBPadd                                               float64 \n",
      " 90   DBPadd                                               float64 \n",
      " 91   Pulserate5                                           float64 \n",
      " 92   Pulserate6                                           float64 \n",
      " 93   Pulserate7                                           float64 \n",
      " 94   SBP4                                                 float64 \n",
      " 95   DBP4                                                 float64 \n",
      " 96   SBP5                                                 float64 \n",
      " 97   DBP5                                                 float64 \n",
      " 98   SBP6                                                 float64 \n",
      " 99   DBP6                                                 float64 \n",
      " 100  WBCcount                                             float64 \n",
      " 101  Ncount                                               float64 \n",
      " 102  N                                                    float64 \n",
      " 103  Lcount                                               float64 \n",
      " 104  L                                                    float64 \n",
      " 105  Plateletcount                                        float64 \n",
      " 106  PCV                                                  float64 \n",
      " 107  RBC                                                  float64 \n",
      " 108  CRP                                                  float64 \n",
      " 109  ESR                                                  float64 \n",
      " 110  Na                                                   float64 \n",
      " 111  K                                                    float64 \n",
      " 112  AST                                                  float64 \n",
      " 113  ALT                                                  float64 \n",
      " 114  T.Bilirubin                                          float64 \n",
      " 115  S.creatinine                                         float64 \n",
      " 116  B.urea                                               float64 \n",
      " 117  WBC_first_day                                        float64 \n",
      " 118  WBCcount4                                            float64 \n",
      " 119  WBCcount5                                            float64 \n",
      " 120  WBCcount6                                            float64 \n",
      " 121  Ncount4                                              float64 \n",
      " 122  Ncount5                                              float64 \n",
      " 123  Ncount6                                              float64 \n",
      " 124  N4                                                   float64 \n",
      " 125  N5                                                   float64 \n",
      " 126  N6                                                   float64 \n",
      " 127  Lcount4                                              float64 \n",
      " 128  Lcount5                                              float64 \n",
      " 129  Lcount6                                              float64 \n",
      " 130  L4                                                   float64 \n",
      " 131  L5                                                   float64 \n",
      " 132  L6                                                   float64 \n",
      " 133  Platelet4                                            float64 \n",
      " 134  Platelet5                                            float64 \n",
      " 135  Platelet6                                            float64 \n",
      " 136  PCV4                                                 float64 \n",
      " 137  PCV5                                                 float64 \n",
      " 138  PCV6                                                 float64 \n",
      " 139  RBC4                                                 float64 \n",
      " 140  RBC5                                                 float64 \n",
      " 141  RBC6                                                 float64 \n",
      " 142  WPqPCRDiagnosis                                      category\n",
      " 143  UrineqPCRDiagnosis                                   float64 \n",
      " 144  CultureqPCRDia                                       float64 \n",
      " 145  SerumqPCRDiagnosis                                   float64 \n",
      " 146  Isolate                                              category\n",
      " 147  MAT_set_1                                            category\n",
      " 148  Geyaweera                                            float64 \n",
      " 149  Acu_L.interrogansserovarBratislavastr.JezBratislava  float64 \n",
      " 150  Acu_L.interrogansserovarAutumnalisstr.AkiyamiA       float64 \n",
      " 151  Acu_L.weiliiserovarCelledonistr.Celledoni            float64 \n",
      " 152  Acu_L.interrogansserovarCanicolastr.Ruebush          float64 \n",
      " 153  Acu_L.interrogansserovarIcterohaemorrhagiaestr.RGA   float64 \n",
      " 154  Acu_L.interrogansserovarMankarsostr.Mankarso         float64 \n",
      " 155  Acu_L.santarosaiserovarGeorgiastr.LT117              float64 \n",
      " 156  Acu_L.santarosaiserovarPyrogenesstr.Salinem          float64 \n",
      " 157  Acu_L.interrogansserovarBataviaestr.VanTienan        float64 \n",
      " 158  Acu_L.interrogansserovarAlexistr.616                 float64 \n",
      " 159  Acu_L.interrogansserovarAustralisstr.Ballico         float64 \n",
      " 160  Acu_L.interrogansserovarwolfiistr.3705               float64 \n",
      " 161  Acu_L.interrogansserovarWeerasinghe                  float64 \n",
      " 162  Acu_Patoc                                            float64 \n",
      " 163  HeadacheDays                                         float64 \n",
      " 164  FeverDays                                            float64 \n",
      " 165  ChillsDays                                           float64 \n",
      " 166  RigorsDays                                           float64 \n",
      " 167  MusclepainDays                                       float64 \n",
      " 168  MustenderDays                                        float64 \n",
      " 169  NauseaDays                                           float64 \n",
      " 170  VomitingDays                                         float64 \n",
      " 171  ConsufDays                                           float64 \n",
      " 172  SkinrashDays                                         float64 \n",
      " 173  MucorashDays                                         float64 \n",
      " 174  ProstrationDays                                      float64 \n",
      " 175  diarrheaDays                                         float64 \n",
      " 176  OliguriaDays                                         float64 \n",
      " 177  AnuriaDays                                           float64 \n",
      " 178  JaundiceDays                                         float64 \n",
      " 179  PhotophobiaDays                                      float64 \n",
      " 180  ConfusionDays                                        float64 \n",
      " 181  CoughDays                                            float64 \n",
      " 182  HaemoptysisDays                                      float64 \n",
      " 183  SOBDays                                              float64 \n",
      " 184  ChestpainDays                                        float64 \n",
      " 185  BleedingDays                                         float64 \n",
      " 186  hepatictenderDays                                    float64 \n",
      " 187  hepatomegalyDays                                     float64 \n",
      " 188  SpleenomegalyDays                                    float64 \n",
      " 189  LymphadenopathyDays                                  float64 \n",
      " 190  NeckstiffnessDays                                    float64 \n",
      " 191  WaterArea                                            object  \n",
      "dtypes: category(20), float64(171), object(1)\n",
      "memory usage: 476.8+ KB\n"
     ]
    }
   ],
   "source": [
    "test.info(all)"
   ]
  },
  {
   "cell_type": "code",
   "execution_count": 79,
   "id": "ae928252-cd85-4468-a71b-cec550bde95e",
   "metadata": {},
   "outputs": [],
   "source": [
    "impute_test= test.copy()\n",
    "\n",
    "impute_test= impute_test.fillna(impute_test.mode().iloc[0])"
   ]
  },
  {
   "cell_type": "code",
   "execution_count": 80,
   "id": "08bf15ca-3a50-4330-ac3d-d7defce8f1a1",
   "metadata": {},
   "outputs": [
    {
     "data": {
      "text/plain": [
       "Index([], dtype='object')"
      ]
     },
     "execution_count": 80,
     "metadata": {},
     "output_type": "execute_result"
    }
   ],
   "source": [
    "columns_missing_values = impute_test.columns[impute_test.isna().any()]\n",
    "columns_missing_values"
   ]
  },
  {
   "cell_type": "code",
   "execution_count": 81,
   "id": "0ffff019-64de-4c83-abda-8cc465eda530",
   "metadata": {},
   "outputs": [
    {
     "name": "stdout",
     "output_type": "stream",
     "text": [
      "<class 'pandas.core.frame.DataFrame'>\n",
      "RangeIndex: 347 entries, 0 to 346\n",
      "Data columns (total 192 columns):\n",
      " #    Column                                               Dtype   \n",
      "---   ------                                               -----   \n",
      " 0    Year                                                 category\n",
      " 1    Month                                                category\n",
      " 2    Hospital                                             category\n",
      " 3    Sample                                               category\n",
      " 4    ICU                                                  category\n",
      " 5    OPD                                                  category\n",
      " 6    Sex                                                  category\n",
      " 7    Age                                                  float64 \n",
      " 8    Ethnicity                                            category\n",
      " 9    Income                                               float64 \n",
      " 10   Education                                            category\n",
      " 11   TertiaryEducation                                    category\n",
      " 12   Prophylactics                                        category\n",
      " 13   Pasttreatments                                       category\n",
      " 14   Pastantibiotics                                      category\n",
      " 15   Chronicillness                                       category\n",
      " 16   Possibleexposure                                     category\n",
      " 17   Usualdrinkingwatersource                             float64 \n",
      " 18   Usualbathingwatersource                              float64 \n",
      " 19   Sourceofwaterforhousehold                            float64 \n",
      " 20   Garbagedisposalprocedure                             float64 \n",
      " 21   Accumilationofrefusal                                float64 \n",
      " 22   Availabilityofpublicgarbagecollectionprocedure       float64 \n",
      " 23   Homemarshywetland                                    float64 \n",
      " 24   Workplacemarshywet                                   float64 \n",
      " 25   HomeBushes                                           float64 \n",
      " 26   Workplacebushes                                      float64 \n",
      " 27   Homeforest                                           float64 \n",
      " 28   Workplaceforest                                      float64 \n",
      " 29   Homeworkingpaddyfield                                float64 \n",
      " 30   WorkPlaceworkingpaddyfield                           float64 \n",
      " 31   Homeabondantpaddyfield                               float64 \n",
      " 32   Workplaceabondantpaddyfield                          float64 \n",
      " 33   Homeotheragricultural                                float64 \n",
      " 34   workplaceotheragricultural                           float64 \n",
      " 35   Homeanimalfarm                                       float64 \n",
      " 36   Workplaceanimalfarm                                  float64 \n",
      " 37   Homegarbageaccumilation                              float64 \n",
      " 38   Workplacegarbageaccumilation                         float64 \n",
      " 39   Homeblockeddrainage                                  float64 \n",
      " 40   Workplaceblockeddrainage                             float64 \n",
      " 41   Homesewer                                            float64 \n",
      " 42   Workplacesewer                                       float64 \n",
      " 43   Rathome                                              float64 \n",
      " 44   RatWorkplace                                         float64 \n",
      " 45   RatNeighbourhood                                     float64 \n",
      " 46   Cathome                                              float64 \n",
      " 47   Catworkplace                                         float64 \n",
      " 48   CatNeighbourhood                                     float64 \n",
      " 49   Doghome                                              float64 \n",
      " 50   DogWorkplace                                         float64 \n",
      " 51   DogNeighbourhood                                     float64 \n",
      " 52   Cattlehome                                           float64 \n",
      " 53   CattleWorkplace                                      float64 \n",
      " 54   CattleNeighbourhood                                  float64 \n",
      " 55   PigHome                                              float64 \n",
      " 56   PigWorkplace                                         float64 \n",
      " 57   PigNeighbourhood                                     float64 \n",
      " 58   GoatHome                                             float64 \n",
      " 59   GoatWorkplace                                        float64 \n",
      " 60   GoatNeighbourhood                                    float64 \n",
      " 61   Urumeeyahome                                         float64 \n",
      " 62   Urumeeyaworkplace                                    float64 \n",
      " 63   UrimeeyaNeighbourhood                                float64 \n",
      " 64   OtherrhodentsHome                                    float64 \n",
      " 65   Marshlandexposure                                    float64 \n",
      " 66   Wetsoilexposure                                      float64 \n",
      " 67   Floodexposure                                        float64 \n",
      " 68   Forestexposure                                       float64 \n",
      " 69   BushesExposure                                       float64 \n",
      " 70   Otheragriexposure                                    float64 \n",
      " 71   Gardeningexposure                                    float64 \n",
      " 72   Otheroutdoorworkexposure                             float64 \n",
      " 73   Naturalrunningwaterexposure                          float64 \n",
      " 74   Stagnantwaterexposure                                float64 \n",
      " 75   Manmaderunningwaterexposure                          float64 \n",
      " 76   Drainsexposure                                       float64 \n",
      " 77   Otherwaterexposure                                   float64 \n",
      " 78   Paddyfieldexposure                                   float64 \n",
      " 79   Walkingbarefootoutdoor                               float64 \n",
      " 80   CattleHandle                                         float64 \n",
      " 81   BuffaloHandle                                        float64 \n",
      " 82   Goathandle                                           float64 \n",
      " 83   Pighandle                                            float64 \n",
      " 84   Cathandle                                            float64 \n",
      " 85   Doghandle                                            float64 \n",
      " 86   Psychoticsymptomsonset                               category\n",
      " 87   Psychoticsymptomsad                                  category\n",
      " 88   PRad                                                 float64 \n",
      " 89   SBPadd                                               float64 \n",
      " 90   DBPadd                                               float64 \n",
      " 91   Pulserate5                                           float64 \n",
      " 92   Pulserate6                                           float64 \n",
      " 93   Pulserate7                                           float64 \n",
      " 94   SBP4                                                 float64 \n",
      " 95   DBP4                                                 float64 \n",
      " 96   SBP5                                                 float64 \n",
      " 97   DBP5                                                 float64 \n",
      " 98   SBP6                                                 float64 \n",
      " 99   DBP6                                                 float64 \n",
      " 100  WBCcount                                             float64 \n",
      " 101  Ncount                                               float64 \n",
      " 102  N                                                    float64 \n",
      " 103  Lcount                                               float64 \n",
      " 104  L                                                    float64 \n",
      " 105  Plateletcount                                        float64 \n",
      " 106  PCV                                                  float64 \n",
      " 107  RBC                                                  float64 \n",
      " 108  CRP                                                  float64 \n",
      " 109  ESR                                                  float64 \n",
      " 110  Na                                                   float64 \n",
      " 111  K                                                    float64 \n",
      " 112  AST                                                  float64 \n",
      " 113  ALT                                                  float64 \n",
      " 114  T.Bilirubin                                          float64 \n",
      " 115  S.creatinine                                         float64 \n",
      " 116  B.urea                                               float64 \n",
      " 117  WBC_first_day                                        float64 \n",
      " 118  WBCcount4                                            float64 \n",
      " 119  WBCcount5                                            float64 \n",
      " 120  WBCcount6                                            float64 \n",
      " 121  Ncount4                                              float64 \n",
      " 122  Ncount5                                              float64 \n",
      " 123  Ncount6                                              float64 \n",
      " 124  N4                                                   float64 \n",
      " 125  N5                                                   float64 \n",
      " 126  N6                                                   float64 \n",
      " 127  Lcount4                                              float64 \n",
      " 128  Lcount5                                              float64 \n",
      " 129  Lcount6                                              float64 \n",
      " 130  L4                                                   float64 \n",
      " 131  L5                                                   float64 \n",
      " 132  L6                                                   float64 \n",
      " 133  Platelet4                                            float64 \n",
      " 134  Platelet5                                            float64 \n",
      " 135  Platelet6                                            float64 \n",
      " 136  PCV4                                                 float64 \n",
      " 137  PCV5                                                 float64 \n",
      " 138  PCV6                                                 float64 \n",
      " 139  RBC4                                                 float64 \n",
      " 140  RBC5                                                 float64 \n",
      " 141  RBC6                                                 float64 \n",
      " 142  WPqPCRDiagnosis                                      category\n",
      " 143  UrineqPCRDiagnosis                                   float64 \n",
      " 144  CultureqPCRDia                                       float64 \n",
      " 145  SerumqPCRDiagnosis                                   float64 \n",
      " 146  Isolate                                              category\n",
      " 147  MAT_set_1                                            category\n",
      " 148  Geyaweera                                            float64 \n",
      " 149  Acu_L.interrogansserovarBratislavastr.JezBratislava  float64 \n",
      " 150  Acu_L.interrogansserovarAutumnalisstr.AkiyamiA       float64 \n",
      " 151  Acu_L.weiliiserovarCelledonistr.Celledoni            float64 \n",
      " 152  Acu_L.interrogansserovarCanicolastr.Ruebush          float64 \n",
      " 153  Acu_L.interrogansserovarIcterohaemorrhagiaestr.RGA   float64 \n",
      " 154  Acu_L.interrogansserovarMankarsostr.Mankarso         float64 \n",
      " 155  Acu_L.santarosaiserovarGeorgiastr.LT117              float64 \n",
      " 156  Acu_L.santarosaiserovarPyrogenesstr.Salinem          float64 \n",
      " 157  Acu_L.interrogansserovarBataviaestr.VanTienan        float64 \n",
      " 158  Acu_L.interrogansserovarAlexistr.616                 float64 \n",
      " 159  Acu_L.interrogansserovarAustralisstr.Ballico         float64 \n",
      " 160  Acu_L.interrogansserovarwolfiistr.3705               float64 \n",
      " 161  Acu_L.interrogansserovarWeerasinghe                  float64 \n",
      " 162  Acu_Patoc                                            float64 \n",
      " 163  HeadacheDays                                         float64 \n",
      " 164  FeverDays                                            float64 \n",
      " 165  ChillsDays                                           float64 \n",
      " 166  RigorsDays                                           float64 \n",
      " 167  MusclepainDays                                       float64 \n",
      " 168  MustenderDays                                        float64 \n",
      " 169  NauseaDays                                           float64 \n",
      " 170  VomitingDays                                         float64 \n",
      " 171  ConsufDays                                           float64 \n",
      " 172  SkinrashDays                                         float64 \n",
      " 173  MucorashDays                                         float64 \n",
      " 174  ProstrationDays                                      float64 \n",
      " 175  diarrheaDays                                         float64 \n",
      " 176  OliguriaDays                                         float64 \n",
      " 177  AnuriaDays                                           float64 \n",
      " 178  JaundiceDays                                         float64 \n",
      " 179  PhotophobiaDays                                      float64 \n",
      " 180  ConfusionDays                                        float64 \n",
      " 181  CoughDays                                            float64 \n",
      " 182  HaemoptysisDays                                      float64 \n",
      " 183  SOBDays                                              float64 \n",
      " 184  ChestpainDays                                        float64 \n",
      " 185  BleedingDays                                         float64 \n",
      " 186  hepatictenderDays                                    float64 \n",
      " 187  hepatomegalyDays                                     float64 \n",
      " 188  SpleenomegalyDays                                    float64 \n",
      " 189  LymphadenopathyDays                                  float64 \n",
      " 190  NeckstiffnessDays                                    float64 \n",
      " 191  WaterArea                                            int64   \n",
      "dtypes: category(20), float64(171), int64(1)\n",
      "memory usage: 476.8 KB\n"
     ]
    }
   ],
   "source": [
    "impute_test.info(all)"
   ]
  },
  {
   "cell_type": "raw",
   "id": "07b9f7eb-374d-47bc-a6ed-19e66a14107e",
   "metadata": {},
   "source": [
    "numerical_columns = impute_test.select_dtypes(include=['int64','float64']).columns\n",
    "numerical_columns\n",
    "\n",
    "data = impute_test[numerical_columns]\n",
    "\n",
    "# Define a function to identify and handle outliers using IQR method\n",
    "def handle_outliers(data,threshold=1.5):\n",
    "    Q1 = data.quantile(0.25)\n",
    "    Q3 = data.quantile(0.75)\n",
    "    IQR = Q3-Q1\n",
    "    \n",
    "    lower = Q1 - threshold*IQR\n",
    "    upper = Q3 + threshold*IQR\n",
    "    \n",
    "    # Replace outliers with the median value\n",
    "    data = np.where((data<lower)|(data>upper),data.median(),data)\n",
    "    return data\n",
    "\n",
    "# Handle outliers in the dataset\n",
    "outlier_handled_data = data.apply(handle_outliers)\n",
    "\n",
    "impute_test[numerical_columns] = outlier_handled_data[numerical_columns]\n",
    "print(impute_test)\n",
    "    "
   ]
  },
  {
   "cell_type": "markdown",
   "id": "944a7598-7678-48c6-bd4a-3dbcfcf1d27b",
   "metadata": {},
   "source": [
    "## Predicrion"
   ]
  },
  {
   "cell_type": "code",
   "execution_count": 82,
   "id": "98738513-c415-4a8e-b20b-d87a44d104f5",
   "metadata": {},
   "outputs": [
    {
     "data": {
      "text/plain": [
       "array([0, 1, 1, 1, 0, 0, 1, 1, 1, 1, 1, 1, 1, 1, 1, 1, 1, 1, 1, 1, 1, 1,\n",
       "       1, 1, 1, 1, 1, 1, 1, 1, 1, 1, 1, 1, 1, 1, 1, 1, 1, 0, 0, 1, 0, 1,\n",
       "       1, 1, 1, 1, 1, 1, 1, 1, 1, 1, 0, 0, 0, 1, 1, 1, 1, 1, 0, 1, 1, 0,\n",
       "       0, 0, 1, 1, 1, 1, 0, 1, 1, 0, 1, 1, 1, 0, 1, 0, 1, 1, 1, 1, 1, 1,\n",
       "       1, 1, 1, 1, 1, 1, 1, 1, 1, 0, 1, 1, 1, 0, 1, 1, 1, 1, 0, 1, 0, 1,\n",
       "       1, 0, 1, 1, 1, 1, 1, 1, 0, 1, 1, 1, 1, 1, 1, 1, 1, 1, 1, 1, 1, 1,\n",
       "       1, 1, 1, 1, 1, 1, 0, 1, 1, 0, 1, 1, 1, 1, 1, 1, 0, 0, 0, 1, 0, 0,\n",
       "       0, 1, 1, 1, 1, 1, 1, 1, 1, 1, 1, 1, 1, 0, 0, 0, 0, 0, 0, 1, 0, 1,\n",
       "       0, 0, 0, 1, 1, 1, 0, 1, 1, 1, 1, 1, 1, 0, 0, 0, 1, 1, 1, 1, 0, 1,\n",
       "       0, 1, 0, 1, 0, 1, 0, 0, 0, 0, 0, 0, 0, 0, 0, 1, 0, 1, 1, 1, 0, 1,\n",
       "       1, 1, 1, 0, 1, 0, 1, 1, 1, 1, 0, 1, 1, 1, 0, 0, 0, 0, 0, 0, 0, 1,\n",
       "       1, 1, 0, 1, 1, 1, 1, 0, 0, 0, 0, 0, 1, 1, 1, 0, 1, 1, 0, 1, 1, 1,\n",
       "       0, 0, 1, 1, 1, 1, 1, 0, 1, 1, 0, 1, 0, 0, 0, 1, 1, 0, 0, 1, 1, 1,\n",
       "       1, 1, 0, 1, 1, 1, 1, 0, 1, 0, 1, 0, 0, 0, 1, 1, 1, 1, 1, 1, 1, 1,\n",
       "       1, 1, 0, 0, 1, 1, 1, 1, 1, 1, 1, 0, 1, 1, 1, 0, 1, 0, 0, 0, 0, 0,\n",
       "       0, 1, 0, 1, 1, 0, 0, 1, 1, 1, 1, 1, 0, 0, 0, 0, 0], dtype=int64)"
      ]
     },
     "execution_count": 82,
     "metadata": {},
     "output_type": "execute_result"
    }
   ],
   "source": [
    "test_pred2 = logistic_model_smote.predict(impute_test)\n",
    "test_pred2"
   ]
  },
  {
   "cell_type": "code",
   "execution_count": 83,
   "id": "832b0670-f63b-401c-b678-69d9157273c0",
   "metadata": {},
   "outputs": [
    {
     "data": {
      "text/plain": [
       "array([1, 2, 2, 2, 1, 1, 2, 2, 2, 2, 2, 2, 2, 2, 2, 2, 2, 2, 2, 2, 2, 2,\n",
       "       2, 2, 2, 2, 2, 2, 2, 2, 2, 2, 2, 2, 2, 2, 2, 2, 2, 1, 1, 2, 1, 2,\n",
       "       2, 2, 2, 2, 2, 2, 2, 2, 2, 2, 1, 1, 1, 2, 2, 2, 2, 2, 1, 2, 2, 1,\n",
       "       1, 1, 2, 2, 2, 2, 1, 2, 2, 1, 2, 2, 2, 1, 2, 1, 2, 2, 2, 2, 2, 2,\n",
       "       2, 2, 2, 2, 2, 2, 2, 2, 2, 1, 2, 2, 2, 1, 2, 2, 2, 2, 1, 2, 1, 2,\n",
       "       2, 1, 2, 2, 2, 2, 2, 2, 1, 2, 2, 2, 2, 2, 2, 2, 2, 2, 2, 2, 2, 2,\n",
       "       2, 2, 2, 2, 2, 2, 1, 2, 2, 1, 2, 2, 2, 2, 2, 2, 1, 1, 1, 2, 1, 1,\n",
       "       1, 2, 2, 2, 2, 2, 2, 2, 2, 2, 2, 2, 2, 1, 1, 1, 1, 1, 1, 2, 1, 2,\n",
       "       1, 1, 1, 2, 2, 2, 1, 2, 2, 2, 2, 2, 2, 1, 1, 1, 2, 2, 2, 2, 1, 2,\n",
       "       1, 2, 1, 2, 1, 2, 1, 1, 1, 1, 1, 1, 1, 1, 1, 2, 1, 2, 2, 2, 1, 2,\n",
       "       2, 2, 2, 1, 2, 1, 2, 2, 2, 2, 1, 2, 2, 2, 1, 1, 1, 1, 1, 1, 1, 2,\n",
       "       2, 2, 1, 2, 2, 2, 2, 1, 1, 1, 1, 1, 2, 2, 2, 1, 2, 2, 1, 2, 2, 2,\n",
       "       1, 1, 2, 2, 2, 2, 2, 1, 2, 2, 1, 2, 1, 1, 1, 2, 2, 1, 1, 2, 2, 2,\n",
       "       2, 2, 1, 2, 2, 2, 2, 1, 2, 1, 2, 1, 1, 1, 2, 2, 2, 2, 2, 2, 2, 2,\n",
       "       2, 2, 1, 1, 2, 2, 2, 2, 2, 2, 2, 1, 2, 2, 2, 1, 2, 1, 1, 1, 1, 1,\n",
       "       1, 2, 1, 2, 2, 1, 1, 2, 2, 2, 2, 2, 1, 1, 1, 1, 1], dtype=int64)"
      ]
     },
     "execution_count": 83,
     "metadata": {},
     "output_type": "execute_result"
    }
   ],
   "source": [
    "test_pred2 = test_pred2+1\n",
    "test_pred2"
   ]
  },
  {
   "cell_type": "code",
   "execution_count": 84,
   "id": "a6cd1e02-ac0c-4b70-b6e3-294d1426507d",
   "metadata": {},
   "outputs": [
    {
     "data": {
      "text/plain": [
       "array([0, 1, 1, 1, 0, 0, 1, 1, 1, 1, 1, 1, 1, 1, 1, 1, 1, 1, 1, 1, 1, 1,\n",
       "       1, 1, 1, 1, 1, 1, 1, 1, 1, 1, 1, 1, 1, 1, 1, 1, 1, 0, 0, 1, 0, 1,\n",
       "       1, 1, 1, 1, 1, 1, 1, 1, 1, 1, 0, 0, 0, 1, 1, 1, 1, 1, 0, 1, 1, 0,\n",
       "       0, 0, 1, 1, 1, 1, 0, 1, 1, 0, 1, 1, 1, 1, 1, 0, 1, 1, 1, 1, 1, 1,\n",
       "       1, 1, 1, 1, 1, 1, 1, 1, 1, 0, 1, 1, 1, 0, 1, 1, 1, 1, 0, 1, 0, 1,\n",
       "       1, 0, 1, 1, 1, 1, 1, 1, 0, 1, 1, 1, 1, 1, 1, 1, 1, 1, 1, 1, 1, 1,\n",
       "       1, 1, 1, 1, 1, 1, 0, 1, 1, 0, 1, 1, 1, 1, 1, 1, 0, 0, 0, 1, 0, 0,\n",
       "       0, 1, 1, 1, 1, 1, 1, 1, 1, 1, 1, 1, 1, 0, 0, 0, 0, 0, 0, 1, 1, 1,\n",
       "       0, 0, 0, 1, 1, 1, 0, 1, 1, 1, 1, 1, 1, 0, 0, 0, 1, 1, 1, 1, 0, 1,\n",
       "       0, 1, 0, 1, 0, 1, 0, 0, 0, 0, 0, 0, 0, 0, 0, 1, 0, 1, 1, 1, 0, 1,\n",
       "       1, 1, 1, 0, 1, 0, 1, 1, 1, 1, 0, 1, 1, 1, 0, 0, 0, 0, 0, 0, 0, 1,\n",
       "       1, 1, 0, 1, 1, 1, 1, 0, 0, 0, 0, 0, 1, 1, 1, 0, 1, 1, 0, 1, 1, 1,\n",
       "       0, 0, 1, 1, 1, 1, 1, 0, 1, 1, 0, 1, 0, 0, 0, 1, 1, 0, 0, 1, 1, 1,\n",
       "       1, 1, 0, 1, 1, 1, 1, 0, 1, 0, 1, 0, 0, 0, 1, 1, 1, 1, 1, 1, 1, 1,\n",
       "       1, 1, 0, 0, 1, 1, 1, 1, 1, 1, 1, 0, 1, 1, 1, 0, 1, 0, 0, 0, 0, 0,\n",
       "       0, 1, 0, 1, 1, 1, 0, 1, 1, 1, 1, 1, 0, 0, 0, 0, 0], dtype=int64)"
      ]
     },
     "execution_count": 84,
     "metadata": {},
     "output_type": "execute_result"
    }
   ],
   "source": [
    "test_pred3 = logistic_model_adasyn.predict(impute_test)\n",
    "test_pred3"
   ]
  },
  {
   "cell_type": "code",
   "execution_count": 85,
   "id": "897a1ca6-b84f-4a55-aea0-ccb230b96f1c",
   "metadata": {},
   "outputs": [
    {
     "data": {
      "text/plain": [
       "array([1, 2, 2, 2, 1, 1, 2, 2, 2, 2, 2, 2, 2, 2, 2, 2, 2, 2, 2, 2, 2, 2,\n",
       "       2, 2, 2, 2, 2, 2, 2, 2, 2, 2, 2, 2, 2, 2, 2, 2, 2, 1, 1, 2, 1, 2,\n",
       "       2, 2, 2, 2, 2, 2, 2, 2, 2, 2, 1, 1, 1, 2, 2, 2, 2, 2, 1, 2, 2, 1,\n",
       "       1, 1, 2, 2, 2, 2, 1, 2, 2, 1, 2, 2, 2, 2, 2, 1, 2, 2, 2, 2, 2, 2,\n",
       "       2, 2, 2, 2, 2, 2, 2, 2, 2, 1, 2, 2, 2, 1, 2, 2, 2, 2, 1, 2, 1, 2,\n",
       "       2, 1, 2, 2, 2, 2, 2, 2, 1, 2, 2, 2, 2, 2, 2, 2, 2, 2, 2, 2, 2, 2,\n",
       "       2, 2, 2, 2, 2, 2, 1, 2, 2, 1, 2, 2, 2, 2, 2, 2, 1, 1, 1, 2, 1, 1,\n",
       "       1, 2, 2, 2, 2, 2, 2, 2, 2, 2, 2, 2, 2, 1, 1, 1, 1, 1, 1, 2, 2, 2,\n",
       "       1, 1, 1, 2, 2, 2, 1, 2, 2, 2, 2, 2, 2, 1, 1, 1, 2, 2, 2, 2, 1, 2,\n",
       "       1, 2, 1, 2, 1, 2, 1, 1, 1, 1, 1, 1, 1, 1, 1, 2, 1, 2, 2, 2, 1, 2,\n",
       "       2, 2, 2, 1, 2, 1, 2, 2, 2, 2, 1, 2, 2, 2, 1, 1, 1, 1, 1, 1, 1, 2,\n",
       "       2, 2, 1, 2, 2, 2, 2, 1, 1, 1, 1, 1, 2, 2, 2, 1, 2, 2, 1, 2, 2, 2,\n",
       "       1, 1, 2, 2, 2, 2, 2, 1, 2, 2, 1, 2, 1, 1, 1, 2, 2, 1, 1, 2, 2, 2,\n",
       "       2, 2, 1, 2, 2, 2, 2, 1, 2, 1, 2, 1, 1, 1, 2, 2, 2, 2, 2, 2, 2, 2,\n",
       "       2, 2, 1, 1, 2, 2, 2, 2, 2, 2, 2, 1, 2, 2, 2, 1, 2, 1, 1, 1, 1, 1,\n",
       "       1, 2, 1, 2, 2, 2, 1, 2, 2, 2, 2, 2, 1, 1, 1, 1, 1], dtype=int64)"
      ]
     },
     "execution_count": 85,
     "metadata": {},
     "output_type": "execute_result"
    }
   ],
   "source": [
    "test_pred3 = test_pred3+1\n",
    "test_pred3"
   ]
  },
  {
   "cell_type": "code",
   "execution_count": 86,
   "id": "5cbcbf5d-1c97-409c-bdcb-49c8b8298c0b",
   "metadata": {},
   "outputs": [],
   "source": [
    "predictions_df2=pd.DataFrame({\n",
    "    'ID': test_df['ID'],\n",
    "    'Final':test_pred2\n",
    "})"
   ]
  },
  {
   "cell_type": "code",
   "execution_count": 87,
   "id": "8e07830c-3200-4e92-bbfd-9dbb8d6bfb2a",
   "metadata": {},
   "outputs": [],
   "source": [
    "predictions_df3=pd.DataFrame({\n",
    "    'ID': test_df['ID'],\n",
    "    'Final':test_pred3\n",
    "})"
   ]
  },
  {
   "cell_type": "code",
   "execution_count": 88,
   "id": "fb305dce-3dba-493f-b55a-d7b56c3c4104",
   "metadata": {},
   "outputs": [],
   "source": [
    "predictions_df2.to_csv('sample_submission_logistic_smote_s15657.csv', index=False)"
   ]
  },
  {
   "cell_type": "code",
   "execution_count": 89,
   "id": "96dc9b69-2281-4af3-8155-cdf0f918e5d1",
   "metadata": {},
   "outputs": [],
   "source": [
    "predictions_df3.to_csv('sample_submission_logistic_adasyn_s15657.csv', index=False)"
   ]
  },
  {
   "cell_type": "markdown",
   "id": "16283838-4a40-475e-832d-64363f2162d9",
   "metadata": {},
   "source": [
    "## Feature Selection For best model"
   ]
  },
  {
   "cell_type": "code",
   "execution_count": 90,
   "id": "03473b6e-dc32-46b2-a2d0-452a40f4a45d",
   "metadata": {},
   "outputs": [
    {
     "name": "stdout",
     "output_type": "stream",
     "text": [
      "Feature importances (as percentages) in descending order:\n",
      "Psychoticsymptomsonset: 6.43%\n",
      "PRad: 3.57%\n",
      "Psychoticsymptomsad: 3.53%\n",
      "DBPadd: 2.36%\n",
      "Usualdrinkingwatersource: 2.32%\n",
      "GoatHome: 1.60%\n",
      "Pulserate6: 1.44%\n",
      "Year: 1.39%\n",
      "ICU: 1.25%\n",
      "Workplaceforest: 1.22%\n",
      "Pulserate5: 1.20%\n",
      "Accumilationofrefusal: 1.20%\n",
      "OPD: 1.19%\n",
      "Homeforest: 1.15%\n",
      "Naturalrunningwaterexposure: 1.12%\n",
      "RatNeighbourhood: 1.09%\n",
      "Workplacebushes: 1.06%\n",
      "Ethnicity: 0.91%\n",
      "Age: 0.84%\n",
      "Homesewer: 0.82%\n",
      "CattleWorkplace: 0.73%\n",
      "Availabilityofpublicgarbagecollectionprocedure: 0.72%\n",
      "CatNeighbourhood: 0.71%\n",
      "Doghome: 0.70%\n",
      "WaterArea: 0.69%\n",
      "diarrheaDays: 0.69%\n",
      "DogWorkplace: 0.67%\n",
      "SBPadd: 0.67%\n",
      "PigWorkplace: 0.67%\n",
      "Na: 0.62%\n",
      "N5: 0.61%\n",
      "Sex: 0.60%\n",
      "Ncount5: 0.58%\n",
      "BushesExposure: 0.56%\n",
      "Otheragriexposure: 0.55%\n",
      "ESR: 0.54%\n",
      "Usualbathingwatersource: 0.53%\n",
      "T.Bilirubin: 0.52%\n",
      "OliguriaDays: 0.52%\n",
      "Homeblockeddrainage: 0.52%\n",
      "L6: 0.52%\n",
      "Sourceofwaterforhousehold: 0.51%\n",
      "RBC6: 0.51%\n",
      "BuffaloHandle: 0.50%\n",
      "Workplacemarshywet: 0.50%\n",
      "Hospital: 0.50%\n",
      "HomeBushes: 0.48%\n",
      "Homegarbageaccumilation: 0.47%\n",
      "DBP6: 0.47%\n",
      "Homeotheragricultural: 0.47%\n",
      "Possibleexposure: 0.46%\n",
      "L5: 0.46%\n",
      "Sample: 0.46%\n",
      "SOBDays: 0.44%\n",
      "Paddyfieldexposure: 0.43%\n",
      "Floodexposure: 0.42%\n",
      "RatWorkplace: 0.42%\n",
      "Lcount6: 0.41%\n",
      "DogNeighbourhood: 0.40%\n",
      "WorkPlaceworkingpaddyfield: 0.40%\n",
      "DBP5: 0.40%\n",
      "Homeabondantpaddyfield: 0.39%\n",
      "Homemarshywetland: 0.39%\n",
      "CRP: 0.37%\n",
      "Walkingbarefootoutdoor: 0.36%\n",
      "WBCcount: 0.35%\n",
      "Cathome: 0.35%\n",
      "Wetsoilexposure: 0.34%\n",
      "CattleHandle: 0.34%\n",
      "GoatNeighbourhood: 0.33%\n",
      "Workplacegarbageaccumilation: 0.33%\n",
      "Isolate: 0.32%\n",
      "DBP4: 0.32%\n",
      "PCV5: 0.31%\n",
      "TertiaryEducation: 0.31%\n",
      "AST: 0.30%\n",
      "Gardeningexposure: 0.30%\n",
      "Plateletcount: 0.30%\n",
      "NeckstiffnessDays: 0.29%\n",
      "N: 0.29%\n",
      "Acu_Patoc: 0.29%\n",
      "PCV6: 0.28%\n",
      "Otheroutdoorworkexposure: 0.28%\n",
      "Pulserate7: 0.28%\n",
      "Ncount4: 0.27%\n",
      "workplaceotheragricultural: 0.27%\n",
      "PigHome: 0.27%\n",
      "RBC4: 0.26%\n",
      "hepatictenderDays: 0.26%\n",
      "FeverDays: 0.25%\n",
      "Marshlandexposure: 0.25%\n",
      "SerumqPCRDiagnosis: 0.25%\n",
      "Platelet5: 0.24%\n",
      "Acu_L.santarosaiserovarPyrogenesstr.Salinem: 0.24%\n",
      "Acu_L.interrogansserovarBataviaestr.VanTienan: 0.24%\n",
      "CultureqPCRDia: 0.24%\n",
      "Education: 0.23%\n",
      "Pastantibiotics: 0.23%\n",
      "Acu_L.interrogansserovarIcterohaemorrhagiaestr.RGA: 0.23%\n",
      "HaemoptysisDays: 0.23%\n",
      "Acu_L.santarosaiserovarGeorgiastr.LT117: 0.21%\n",
      "AnuriaDays: 0.21%\n",
      "Prophylactics: 0.20%\n",
      "ALT: 0.20%\n",
      "Homeanimalfarm: 0.20%\n",
      "ChestpainDays: 0.19%\n",
      "Acu_L.interrogansserovarWeerasinghe: 0.19%\n",
      "ConfusionDays: 0.18%\n",
      "Pasttreatments: 0.18%\n",
      "Chronicillness: 0.18%\n",
      "Acu_L.interrogansserovarMankarsostr.Mankarso: 0.18%\n",
      "RBC5: 0.18%\n",
      "MucorashDays: 0.18%\n",
      "N4: 0.17%\n",
      "Doghandle: 0.17%\n",
      "Acu_L.weiliiserovarCelledonistr.Celledoni: 0.17%\n",
      "Goathandle: 0.17%\n",
      "Lcount5: 0.16%\n",
      "UrineqPCRDiagnosis: 0.16%\n",
      "Garbagedisposalprocedure: 0.16%\n",
      "PhotophobiaDays: 0.16%\n",
      "NauseaDays: 0.16%\n",
      "Acu_L.interrogansserovarCanicolastr.Ruebush: 0.16%\n",
      "WBCcount6: 0.16%\n",
      "Platelet6: 0.16%\n",
      "Acu_L.interrogansserovarAutumnalisstr.AkiyamiA: 0.15%\n",
      "Catworkplace: 0.15%\n",
      "Workplaceanimalfarm: 0.15%\n",
      "Cathandle: 0.14%\n",
      "WBC_first_day: 0.14%\n",
      "Acu_L.interrogansserovarBratislavastr.JezBratislava: 0.14%\n",
      "L4: 0.14%\n",
      "ProstrationDays: 0.14%\n",
      "Ncount6: 0.14%\n",
      "Acu_L.interrogansserovarAlexistr.616: 0.14%\n",
      "GoatWorkplace: 0.13%\n",
      "CattleNeighbourhood: 0.13%\n",
      "Forestexposure: 0.13%\n",
      "PCV4: 0.13%\n",
      "Platelet4: 0.13%\n",
      "PigNeighbourhood: 0.12%\n",
      "VomitingDays: 0.12%\n",
      "Urumeeyahome: 0.12%\n",
      "Workplaceblockeddrainage: 0.11%\n",
      "Lcount4: 0.11%\n",
      "hepatomegalyDays: 0.11%\n",
      "SBP6: 0.11%\n",
      "Drainsexposure: 0.11%\n",
      "SpleenomegalyDays: 0.11%\n",
      "UrimeeyaNeighbourhood: 0.10%\n",
      "RigorsDays: 0.10%\n",
      "Workplacesewer: 0.10%\n",
      "HeadacheDays: 0.10%\n",
      "Month: 0.09%\n",
      "Rathome: 0.08%\n",
      "L: 0.08%\n",
      "CoughDays: 0.08%\n",
      "Urumeeyaworkplace: 0.07%\n",
      "Manmaderunningwaterexposure: 0.07%\n",
      "PCV: 0.07%\n",
      "WBCcount4: 0.07%\n",
      "RBC: 0.07%\n",
      "Homeworkingpaddyfield: 0.07%\n",
      "SBP5: 0.06%\n",
      "Otherwaterexposure: 0.06%\n",
      "ConsufDays: 0.06%\n",
      "MAT_set_1: 0.04%\n",
      "Income: 0.04%\n",
      "Cattlehome: 0.04%\n",
      "Acu_L.interrogansserovarwolfiistr.3705: 0.04%\n",
      "Ncount: 0.04%\n",
      "S.creatinine: 0.04%\n",
      "JaundiceDays: 0.04%\n",
      "Stagnantwaterexposure: 0.04%\n",
      "B.urea: 0.03%\n",
      "Pighandle: 0.03%\n",
      "WBCcount5: 0.03%\n",
      "MusclepainDays: 0.03%\n",
      "LymphadenopathyDays: 0.03%\n",
      "SkinrashDays: 0.02%\n",
      "N6: 0.02%\n",
      "Lcount: 0.02%\n",
      "BleedingDays: 0.02%\n",
      "ChillsDays: 0.01%\n",
      "OtherrhodentsHome: 0.01%\n",
      "Workplaceabondantpaddyfield: 0.01%\n",
      "K: 0.01%\n",
      "WPqPCRDiagnosis: 0.01%\n",
      "Acu_L.interrogansserovarAustralisstr.Ballico: 0.00%\n",
      "MustenderDays: 0.00%\n",
      "SBP4: 0.00%\n"
     ]
    }
   ],
   "source": [
    "from sklearn.linear_model import LogisticRegression\n",
    "from sklearn.pipeline import Pipeline\n",
    "\n",
    "# Define pipeline with preprocessing and logistic regression\n",
    "logistic_model_smote = Pipeline(steps=[\n",
    "    ('preprocessor', preprocessor),\n",
    "    ('classifier', LogisticRegression(max_iter=1000))\n",
    "])\n",
    "\n",
    "# Fit the model to the resampled data\n",
    "logistic_model_smote.fit(X_resampled2, y_encoded2)\n",
    "\n",
    "coefficients = logistic_model_smote.named_steps['classifier'].coef_[0]\n",
    "\n",
    "absolute_coefficients = np.abs(coefficients)\n",
    "\n",
    "total_importance = np.sum(absolute_coefficients)\n",
    "\n",
    "feature_names = X_resampled2.columns\n",
    "\n",
    "importance_percentages = [(feature_name, (importance / total_importance) * 100)\n",
    "                          for feature_name, importance in zip(feature_names, absolute_coefficients)]\n",
    "\n",
    "importance_percentages_sorted = sorted(importance_percentages, key=lambda x: x[1], reverse=True)\n",
    "\n",
    "print(\"Feature importances (as percentages) in descending order:\")\n",
    "for feature_name, importance_percentage in importance_percentages_sorted:\n",
    "    print(f\"{feature_name}: {importance_percentage:.2f}%\")\n"
   ]
  },
  {
   "cell_type": "code",
   "execution_count": null,
   "id": "19ff1536-0d5a-487b-85d4-121bc498b9c5",
   "metadata": {},
   "outputs": [],
   "source": []
  }
 ],
 "metadata": {
  "kernelspec": {
   "display_name": "Python 3 (ipykernel)",
   "language": "python",
   "name": "python3"
  },
  "language_info": {
   "codemirror_mode": {
    "name": "ipython",
    "version": 3
   },
   "file_extension": ".py",
   "mimetype": "text/x-python",
   "name": "python",
   "nbconvert_exporter": "python",
   "pygments_lexer": "ipython3",
   "version": "3.11.7"
  }
 },
 "nbformat": 4,
 "nbformat_minor": 5
}
